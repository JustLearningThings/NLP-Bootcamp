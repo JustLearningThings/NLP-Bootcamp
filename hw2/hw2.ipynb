{
 "cells": [
  {
   "cell_type": "code",
   "execution_count": 16,
   "id": "4ff2d291",
   "metadata": {},
   "outputs": [],
   "source": [
    "import nltk\n",
    "\n",
    "from nltk.tokenize import word_tokenize, sent_tokenize, casual_tokenize, MWETokenizer\n",
    "from nltk.stem import PorterStemmer, LancasterStemmer, SnowballStemmer\n",
    "from nltk.probability import FreqDist\n",
    "from nltk import pos_tag\n",
    "\n",
    "import pandas"
   ]
  },
  {
   "cell_type": "markdown",
   "id": "51e49c3a",
   "metadata": {},
   "source": [
    "# Task 1. Reading the .txt file."
   ]
  },
  {
   "cell_type": "markdown",
   "id": "56c99b9b",
   "metadata": {},
   "source": [
    "Open with the python open function the file “class_11_biology_chapter_1_0.txt” from the “TEST/biology” folder. Extract the full content of the file in one unique string at the lower case.\n",
    "NOTE: The following tasks should be done on the string in the lower case.\n"
   ]
  },
  {
   "cell_type": "code",
   "execution_count": 52,
   "id": "9835d846",
   "metadata": {},
   "outputs": [],
   "source": [
    "f = open('./DATA/BIO_CS_DATA/TEST/biology/class_11_biology_chapter_1_0.txt', 'r')\n",
    "\n",
    "file_str = ''.join(f.readlines()).lower().replace('\\n', '') # scapam de \\n, caci nu reprezinta nici o valoare"
   ]
  },
  {
   "cell_type": "code",
   "execution_count": 18,
   "id": "15527552",
   "metadata": {},
   "outputs": [
    {
     "data": {
      "text/plain": [
       "'chapter 1the living worldchapter 2biological classificationchapter 3plant kingdomchapter 4animal kingdom unit idiversity in the living worldbiology is the science of life forms and living processes. the living worldcomprises an amazing diversity of living organisms. early man couldeasily perceive the difference between inanimate matter and livingorganisms. early man deified some of the inanimate matter (wind, sea,fire etc.) and some among the animals and plants. a common feature ofall such forms of inanimate and animate objects was the sense of aweor fear that they evoked. the description of living organisms includinghuman beings began much later in human history. societies whichindulged in anthropocentric view of biology could register limitedprogress in biological knowledge. systematic and monumentaldescription of life forms brought in, out of necessity, detailed systemsof identification, nomenclature and classification. the biggest spin offof such studies was the recognition of the sharing of similarities amongliving organisms both horizontally and vertically. that all present dayliving organisms are related to each other and also to all organismsthat ever lived on this earth, was a revelation which humbled man andled to cultural movements for conservation of biodiversity. in thefollowing chapters of this unit, you will get a description, includingclassification, of animals and plants from a taxonomistâ€™s perspective.2019-2020'"
      ]
     },
     "execution_count": 18,
     "metadata": {},
     "output_type": "execute_result"
    }
   ],
   "source": [
    "file_str"
   ]
  },
  {
   "cell_type": "markdown",
   "id": "632bc5ee",
   "metadata": {},
   "source": [
    "# Task 2. Obtain the file metadata."
   ]
  },
  {
   "cell_type": "markdown",
   "id": "befdfc4c",
   "metadata": {},
   "source": [
    "Get the following metadata about the content of the file.\n",
    "###### HINT: Save the unique tokens obtained by every tokenizer in a set you will need it for the next task."
   ]
  },
  {
   "cell_type": "markdown",
   "id": "2a3afa7e",
   "metadata": {},
   "source": [
    "### 1. The number of sentences extracted by sent_tokenize from nltk."
   ]
  },
  {
   "cell_type": "code",
   "execution_count": 19,
   "id": "b5776f7e",
   "metadata": {},
   "outputs": [],
   "source": [
    "sentences = sent_tokenize(file_str)"
   ]
  },
  {
   "cell_type": "code",
   "execution_count": 20,
   "id": "b90dc429",
   "metadata": {},
   "outputs": [
    {
     "data": {
      "text/plain": [
       "12"
      ]
     },
     "execution_count": 20,
     "metadata": {},
     "output_type": "execute_result"
    }
   ],
   "source": [
    "len(sentences)"
   ]
  },
  {
   "cell_type": "markdown",
   "id": "a504f369",
   "metadata": {},
   "source": [
    "### 2. The number of unique tokens obtained with word_tokenize from nltk."
   ]
  },
  {
   "cell_type": "code",
   "execution_count": 53,
   "id": "d08e2ab2",
   "metadata": {},
   "outputs": [],
   "source": [
    "tokens_word = word_tokenize(file_str)\n",
    "tokens_word_set = set(tokens_word) # salvam set-ul pentru urmatorul task"
   ]
  },
  {
   "cell_type": "code",
   "execution_count": 22,
   "id": "73398c2e",
   "metadata": {},
   "outputs": [
    {
     "data": {
      "text/plain": [
       "223"
      ]
     },
     "execution_count": 22,
     "metadata": {},
     "output_type": "execute_result"
    }
   ],
   "source": [
    "len(tokens_word)"
   ]
  },
  {
   "cell_type": "markdown",
   "id": "73a05a25",
   "metadata": {},
   "source": [
    "### 3. The number of unique tokens obtained with casual_tokenize from nltk."
   ]
  },
  {
   "cell_type": "code",
   "execution_count": 54,
   "id": "9da573b5",
   "metadata": {},
   "outputs": [],
   "source": [
    "tokens_casual = casual_tokenize(file_str)\n",
    "tokens_casual_set = set(tokens_casual) # salvam set-ul pentru urmatorul task"
   ]
  },
  {
   "cell_type": "code",
   "execution_count": 24,
   "id": "0acd546a",
   "metadata": {},
   "outputs": [
    {
     "data": {
      "text/plain": [
       "228"
      ]
     },
     "execution_count": 24,
     "metadata": {},
     "output_type": "execute_result"
    }
   ],
   "source": [
    "len(tokens_casual)"
   ]
  },
  {
   "cell_type": "markdown",
   "id": "578fc1d0",
   "metadata": {},
   "source": [
    "### 4. The number of unique tokens obtained with MWETokenizer from nltk."
   ]
  },
  {
   "cell_type": "code",
   "execution_count": 55,
   "id": "73d6644b",
   "metadata": {},
   "outputs": [],
   "source": [
    "mwe = MWETokenizer([('in', 'the'), ('get', 'a')])\n",
    "tokens_mwe = mwe.tokenize(casual_tokenize(file_str))\n",
    "tokens_mwe_set = set(tokens_mwe) # salvam set-ul pentru urmatorul task"
   ]
  },
  {
   "cell_type": "code",
   "execution_count": 26,
   "id": "bcd85ea8",
   "metadata": {},
   "outputs": [
    {
     "data": {
      "text/plain": [
       "226"
      ]
     },
     "execution_count": 26,
     "metadata": {},
     "output_type": "execute_result"
    }
   ],
   "source": [
    "len(tokens_mwe)"
   ]
  },
  {
   "cell_type": "markdown",
   "id": "4cba7cd1",
   "metadata": {},
   "source": [
    "### 5. The mean number of words (tokens) per sentence in the text by every tokenizer."
   ]
  },
  {
   "cell_type": "code",
   "execution_count": 56,
   "id": "d9074542",
   "metadata": {},
   "outputs": [],
   "source": [
    "# lista numarului de tokenuri pentru fiecare propozitie in dependenta de tokenizer\n",
    "mean_list = []\n",
    "\n",
    "# initializam variabile pentru calcularea mediei\n",
    "mean_word = 0\n",
    "mean_casual = 0\n",
    "mean_mwe = 0\n",
    "\n",
    "for s in sentences:\n",
    "    mean_list.append({\n",
    "        'word_tokenizer': len(word_tokenize(s)),\n",
    "        'casual_tokenizer': len(casual_tokenize(s)),\n",
    "        'MWETokenizer': len(mwe.tokenize(casual_tokenize(s)))\n",
    "        })\n",
    "\n",
    "    # sumam numarul de tokenuri din propozitia data cu variabila respectiva\n",
    "    mean_word += len(word_tokenize(s))\n",
    "    mean_casual += len(casual_tokenize(s))\n",
    "    mean_mwe += len(mwe.tokenize(casual_tokenize(s)))\n",
    "\n",
    "# calculam media aritmetica\n",
    "sentences_len = len(sentences)\n",
    "mean_word /= sentences_len\n",
    "mean_casual /= sentences_len\n",
    "mean_mwe /= sentences_len"
   ]
  },
  {
   "cell_type": "code",
   "execution_count": 57,
   "id": "2c18cd31",
   "metadata": {},
   "outputs": [
    {
     "data": {
      "text/plain": [
       "18.583333333333332"
      ]
     },
     "execution_count": 57,
     "metadata": {},
     "output_type": "execute_result"
    }
   ],
   "source": [
    "mean_word"
   ]
  },
  {
   "cell_type": "code",
   "execution_count": 58,
   "id": "e98e7988",
   "metadata": {},
   "outputs": [
    {
     "data": {
      "text/plain": [
       "19.0"
      ]
     },
     "execution_count": 58,
     "metadata": {},
     "output_type": "execute_result"
    }
   ],
   "source": [
    "mean_casual"
   ]
  },
  {
   "cell_type": "code",
   "execution_count": 59,
   "id": "7595d9bc",
   "metadata": {},
   "outputs": [
    {
     "data": {
      "text/plain": [
       "18.833333333333332"
      ]
     },
     "execution_count": 59,
     "metadata": {},
     "output_type": "execute_result"
    }
   ],
   "source": [
    "mean_mwe"
   ]
  },
  {
   "cell_type": "markdown",
   "id": "ae9dba6f",
   "metadata": {},
   "source": [
    "# Task 3. Comparing the Stemmers."
   ]
  },
  {
   "cell_type": "markdown",
   "id": "10e47c18",
   "metadata": {},
   "source": [
    "Get the union of all unique tokens found by every tokenizer. \n",
    "\n",
    "Use this new created set to find the stemmed form of this token generated by every of the following stemmers - **PorterStemmer**, **LancasterStemmer** and **SnowballStemmer**.\n",
    "\n",
    "Save the result in a pandas DataFrame. Compare the result and differences of every stemmer."
   ]
  },
  {
   "cell_type": "code",
   "execution_count": 29,
   "id": "d1fcdd01",
   "metadata": {},
   "outputs": [],
   "source": [
    "token_union = tokens_word_set.union(tokens_casual_set).union(tokens_mwe_set)"
   ]
  },
  {
   "cell_type": "markdown",
   "id": "16377710",
   "metadata": {},
   "source": [
    "Setarea stemmer-urilor"
   ]
  },
  {
   "cell_type": "code",
   "execution_count": 30,
   "id": "81209d13",
   "metadata": {},
   "outputs": [],
   "source": [
    "porter = PorterStemmer()\n",
    "lancaster = LancasterStemmer()\n",
    "snowball = SnowballStemmer(language='english')"
   ]
  },
  {
   "cell_type": "markdown",
   "id": "a39f6543",
   "metadata": {},
   "source": [
    "Obtinem listele necesare pentru DateFrame"
   ]
  },
  {
   "cell_type": "code",
   "execution_count": 31,
   "id": "d9b60433",
   "metadata": {},
   "outputs": [],
   "source": [
    "original_token_list = [t for t in token_union]\n",
    "stemmed_list_porter = [porter.stem(t) for t in token_union]\n",
    "stemmed_list_lancaster = [lancaster.stem(t) for t in token_union]\n",
    "stemmed_list_snowball = [snowball.stem(t) for t in token_union]"
   ]
  },
  {
   "cell_type": "markdown",
   "id": "d45a7dc3",
   "metadata": {},
   "source": [
    "Cream un DateFrame."
   ]
  },
  {
   "cell_type": "code",
   "execution_count": 60,
   "id": "ac72763f",
   "metadata": {},
   "outputs": [],
   "source": [
    "df = pandas.DataFrame(data={\n",
    "    'original_token': original_token_list,\n",
    "    'porter': stemmed_list_porter,\n",
    "    'lancaster': stemmed_list_lancaster,\n",
    "    'snowball': stemmed_list_snowball\n",
    "    })"
   ]
  },
  {
   "cell_type": "code",
   "execution_count": 61,
   "id": "a984da7d",
   "metadata": {},
   "outputs": [
    {
     "data": {
      "text/html": [
       "<div>\n",
       "<style scoped>\n",
       "    .dataframe tbody tr th:only-of-type {\n",
       "        vertical-align: middle;\n",
       "    }\n",
       "\n",
       "    .dataframe tbody tr th {\n",
       "        vertical-align: top;\n",
       "    }\n",
       "\n",
       "    .dataframe thead th {\n",
       "        text-align: right;\n",
       "    }\n",
       "</style>\n",
       "<table border=\"1\" class=\"dataframe\">\n",
       "  <thead>\n",
       "    <tr style=\"text-align: right;\">\n",
       "      <th></th>\n",
       "      <th>original_token</th>\n",
       "      <th>porter</th>\n",
       "      <th>lancaster</th>\n",
       "      <th>snowball</th>\n",
       "    </tr>\n",
       "  </thead>\n",
       "  <tbody>\n",
       "    <tr>\n",
       "      <th>0</th>\n",
       "      <td>conservation</td>\n",
       "      <td>conserv</td>\n",
       "      <td>conserv</td>\n",
       "      <td>conserv</td>\n",
       "    </tr>\n",
       "    <tr>\n",
       "      <th>1</th>\n",
       "      <td>evoked</td>\n",
       "      <td>evok</td>\n",
       "      <td>evok</td>\n",
       "      <td>evok</td>\n",
       "    </tr>\n",
       "    <tr>\n",
       "      <th>2</th>\n",
       "      <td>plants</td>\n",
       "      <td>plant</td>\n",
       "      <td>plant</td>\n",
       "      <td>plant</td>\n",
       "    </tr>\n",
       "    <tr>\n",
       "      <th>3</th>\n",
       "      <td>vertically</td>\n",
       "      <td>vertic</td>\n",
       "      <td>vert</td>\n",
       "      <td>vertic</td>\n",
       "    </tr>\n",
       "    <tr>\n",
       "      <th>4</th>\n",
       "      <td>knowledge</td>\n",
       "      <td>knowledg</td>\n",
       "      <td>knowledg</td>\n",
       "      <td>knowledg</td>\n",
       "    </tr>\n",
       "    <tr>\n",
       "      <th>...</th>\n",
       "      <td>...</td>\n",
       "      <td>...</td>\n",
       "      <td>...</td>\n",
       "      <td>...</td>\n",
       "    </tr>\n",
       "    <tr>\n",
       "      <th>138</th>\n",
       "      <td>could</td>\n",
       "      <td>could</td>\n",
       "      <td>could</td>\n",
       "      <td>could</td>\n",
       "    </tr>\n",
       "    <tr>\n",
       "      <th>139</th>\n",
       "      <td>both</td>\n",
       "      <td>both</td>\n",
       "      <td>both</td>\n",
       "      <td>both</td>\n",
       "    </tr>\n",
       "    <tr>\n",
       "      <th>140</th>\n",
       "      <td>perspective</td>\n",
       "      <td>perspect</td>\n",
       "      <td>perspect</td>\n",
       "      <td>perspect</td>\n",
       "    </tr>\n",
       "    <tr>\n",
       "      <th>141</th>\n",
       "      <td>detailed</td>\n",
       "      <td>detail</td>\n",
       "      <td>detail</td>\n",
       "      <td>detail</td>\n",
       "    </tr>\n",
       "    <tr>\n",
       "      <th>142</th>\n",
       "      <td>to</td>\n",
       "      <td>to</td>\n",
       "      <td>to</td>\n",
       "      <td>to</td>\n",
       "    </tr>\n",
       "  </tbody>\n",
       "</table>\n",
       "<p>143 rows × 4 columns</p>\n",
       "</div>"
      ],
      "text/plain": [
       "    original_token    porter lancaster  snowball\n",
       "0     conservation   conserv   conserv   conserv\n",
       "1           evoked      evok      evok      evok\n",
       "2           plants     plant     plant     plant\n",
       "3       vertically    vertic      vert    vertic\n",
       "4        knowledge  knowledg  knowledg  knowledg\n",
       "..             ...       ...       ...       ...\n",
       "138          could     could     could     could\n",
       "139           both      both      both      both\n",
       "140    perspective  perspect  perspect  perspect\n",
       "141       detailed    detail    detail    detail\n",
       "142             to        to        to        to\n",
       "\n",
       "[143 rows x 4 columns]"
      ]
     },
     "execution_count": 61,
     "metadata": {},
     "output_type": "execute_result"
    }
   ],
   "source": [
    "df"
   ]
  },
  {
   "cell_type": "markdown",
   "id": "63f11415",
   "metadata": {},
   "source": [
    "# Task 4. Frequencies of words."
   ]
  },
  {
   "cell_type": "markdown",
   "id": "d43c0e06",
   "metadata": {},
   "source": [
    "Using the lower case string obtained from the file, get the frequencies of the word. What are the 10 most frequent tokens? \n",
    "\n",
    "Extract the list of the hapaxes.\n",
    "\n",
    "Plot the frequency of the words in the descending order as a scatter plot, How similar it is to the zipf law? Why?\n"
   ]
  },
  {
   "cell_type": "code",
   "execution_count": 35,
   "id": "ce8f7600",
   "metadata": {},
   "outputs": [],
   "source": [
    "freq_dist = FreqDist(casual_tokenize(file_str))\n",
    "most_common = freq_dist.most_common(10)"
   ]
  },
  {
   "cell_type": "code",
   "execution_count": 36,
   "id": "cb0be7a1",
   "metadata": {},
   "outputs": [
    {
     "data": {
      "text/plain": [
       "FreqDist({'of': 14, '.': 12, 'the': 11, 'and': 10, ',': 9, 'living': 6, 'in': 6, 'organisms': 4, 'a': 4, 'forms': 3, ...})"
      ]
     },
     "execution_count": 36,
     "metadata": {},
     "output_type": "execute_result"
    }
   ],
   "source": [
    "freq_dist"
   ]
  },
  {
   "cell_type": "code",
   "execution_count": 37,
   "id": "8924d667",
   "metadata": {},
   "outputs": [
    {
     "data": {
      "text/plain": [
       "[('of', 14),\n",
       " ('.', 12),\n",
       " ('the', 11),\n",
       " ('and', 10),\n",
       " (',', 9),\n",
       " ('living', 6),\n",
       " ('in', 6),\n",
       " ('organisms', 4),\n",
       " ('a', 4),\n",
       " ('forms', 3)]"
      ]
     },
     "execution_count": 37,
     "metadata": {},
     "output_type": "execute_result"
    }
   ],
   "source": [
    "most_common"
   ]
  },
  {
   "cell_type": "code",
   "execution_count": 38,
   "id": "1c8a5a86",
   "metadata": {},
   "outputs": [],
   "source": [
    "hapaxes = freq_dist.hapaxes()"
   ]
  },
  {
   "cell_type": "code",
   "execution_count": 39,
   "id": "ecdadfdc",
   "metadata": {
    "scrolled": true,
    "tags": []
   },
   "outputs": [
    {
     "data": {
      "text/plain": [
       "['chapter',\n",
       " '1the',\n",
       " 'worldchapter',\n",
       " '2biological',\n",
       " 'classificationchapter',\n",
       " '3plant',\n",
       " 'kingdomchapter',\n",
       " '4animal',\n",
       " 'kingdom',\n",
       " 'idiversity',\n",
       " 'worldbiology',\n",
       " 'is',\n",
       " 'science',\n",
       " 'processes',\n",
       " 'worldcomprises',\n",
       " 'an',\n",
       " 'amazing',\n",
       " 'diversity',\n",
       " 'couldeasily',\n",
       " 'perceive',\n",
       " 'difference',\n",
       " 'between',\n",
       " 'livingorganisms',\n",
       " 'deified',\n",
       " '(',\n",
       " 'wind',\n",
       " 'sea',\n",
       " 'fire',\n",
       " 'etc',\n",
       " ')',\n",
       " 'among',\n",
       " 'common',\n",
       " 'feature',\n",
       " 'ofall',\n",
       " 'animate',\n",
       " 'objects',\n",
       " 'sense',\n",
       " 'aweor',\n",
       " 'fear',\n",
       " 'they',\n",
       " 'evoked',\n",
       " 'includinghuman',\n",
       " 'beings',\n",
       " 'began',\n",
       " 'much',\n",
       " 'later',\n",
       " 'human',\n",
       " 'history',\n",
       " 'societies',\n",
       " 'whichindulged',\n",
       " 'anthropocentric',\n",
       " 'view',\n",
       " 'biology',\n",
       " 'could',\n",
       " 'register',\n",
       " 'limitedprogress',\n",
       " 'biological',\n",
       " 'knowledge',\n",
       " 'systematic',\n",
       " 'monumentaldescription',\n",
       " 'brought',\n",
       " 'out',\n",
       " 'necessity',\n",
       " 'detailed',\n",
       " 'systemsof',\n",
       " 'identification',\n",
       " 'nomenclature',\n",
       " 'classification',\n",
       " 'biggest',\n",
       " 'spin',\n",
       " 'offof',\n",
       " 'studies',\n",
       " 'recognition',\n",
       " 'sharing',\n",
       " 'similarities',\n",
       " 'amongliving',\n",
       " 'both',\n",
       " 'horizontally',\n",
       " 'vertically',\n",
       " 'present',\n",
       " 'dayliving',\n",
       " 'are',\n",
       " 'related',\n",
       " 'each',\n",
       " 'other',\n",
       " 'also',\n",
       " 'organismsthat',\n",
       " 'ever',\n",
       " 'lived',\n",
       " 'on',\n",
       " 'earth',\n",
       " 'revelation',\n",
       " 'which',\n",
       " 'humbled',\n",
       " 'andled',\n",
       " 'cultural',\n",
       " 'movements',\n",
       " 'for',\n",
       " 'conservation',\n",
       " 'biodiversity',\n",
       " 'thefollowing',\n",
       " 'chapters',\n",
       " 'you',\n",
       " 'will',\n",
       " 'get',\n",
       " 'includingclassification',\n",
       " 'from',\n",
       " 'taxonomistâ',\n",
       " '€',\n",
       " '™',\n",
       " 's',\n",
       " 'perspective',\n",
       " '2019-2020']"
      ]
     },
     "execution_count": 39,
     "metadata": {},
     "output_type": "execute_result"
    }
   ],
   "source": [
    "hapaxes"
   ]
  },
  {
   "cell_type": "code",
   "execution_count": 40,
   "id": "f33d4237",
   "metadata": {},
   "outputs": [
    {
     "data": {
      "image/png": "[encoded data removed]",
      "text/plain": [
       "<Figure size 432x288 with 1 Axes>"
      ]
     },
     "metadata": {
      "needs_background": "light"
     },
     "output_type": "display_data"
    },
    {
     "data": {
      "text/plain": [
       "<AxesSubplot:xlabel='Samples', ylabel='Counts'>"
      ]
     },
     "execution_count": 40,
     "metadata": {},
     "output_type": "execute_result"
    }
   ],
   "source": [
    "freq_dist.plot()"
   ]
  },
  {
   "cell_type": "markdown",
   "id": "432a36fe",
   "metadata": {},
   "source": [
    "- Se observa, in primul rand, ca majoritatea cuvintelor sunt hapaxe din cauza ca corpus-ul este mic.\n",
    "- Din acelasi motiv, se observa 'alunecari' din ce in ce mai vizible apropiindu-ne de y=1.\n",
    "- Daca am fi avut un corpus gigantic, graficul ar fi fost apropiat de o functie liniara la aparenta.\n",
    "- Din grafic se observa ca fie avem cuvinte foarte des intalnite, fie avem hapaxe, ceea ce indica ca avem un corpus mic."
   ]
  },
  {
   "cell_type": "markdown",
   "id": "d85b8854",
   "metadata": {},
   "source": [
    "# Task 5. Part of speech tagging."
   ]
  },
  {
   "cell_type": "markdown",
   "id": "36051027",
   "metadata": {},
   "source": [
    "Extract from the text the part of speech of every token, and group them in dictionary with the following form:\n",
    "\n",
    "##### {“POS” : [list of tokens with this POS] }\n",
    "\n",
    "What is the most common part of speech and why? What is the part of speech that has the smallest frequency?"
   ]
  },
  {
   "cell_type": "code",
   "execution_count": 62,
   "id": "be260241",
   "metadata": {},
   "outputs": [],
   "source": [
    "pos = pos_tag(casual_tokenize(file_str))\n",
    "pos_dict = { tag: [] for (word, tag) in pos } # initializam dictionarul, fiecare parte de vorbire va fi cheie\n",
    "\n",
    "# adaugam tokenurile in lista partii de vorbire din care face parte\n",
    "for (word, tag) in pos:\n",
    "    pos_dict[tag].append(word)"
   ]
  },
  {
   "cell_type": "code",
   "execution_count": 63,
   "id": "a718a9c3",
   "metadata": {
    "scrolled": true,
    "tags": []
   },
   "outputs": [
    {
     "data": {
      "text/plain": [
       "{'NN': ['chapter',\n",
       "  'living',\n",
       "  'worldchapter',\n",
       "  'classificationchapter',\n",
       "  'kingdomchapter',\n",
       "  'kingdom',\n",
       "  'unit',\n",
       "  'idiversity',\n",
       "  'living',\n",
       "  'worldbiology',\n",
       "  'science',\n",
       "  'life',\n",
       "  'living',\n",
       "  'living',\n",
       "  'diversity',\n",
       "  'living',\n",
       "  'man',\n",
       "  'difference',\n",
       "  'matter',\n",
       "  'livingorganisms',\n",
       "  'man',\n",
       "  'matter',\n",
       "  'wind',\n",
       "  'sea',\n",
       "  'fire',\n",
       "  'etc',\n",
       "  'feature',\n",
       "  'ofall',\n",
       "  'inanimate',\n",
       "  'sense',\n",
       "  'aweor',\n",
       "  'description',\n",
       "  'living',\n",
       "  'history',\n",
       "  'view',\n",
       "  'biology',\n",
       "  'limitedprogress',\n",
       "  'knowledge',\n",
       "  'monumentaldescription',\n",
       "  'life',\n",
       "  'necessity',\n",
       "  'systemsof',\n",
       "  'identification',\n",
       "  'nomenclature',\n",
       "  'classification',\n",
       "  'spin',\n",
       "  'offof',\n",
       "  'recognition',\n",
       "  'sharing',\n",
       "  'dayliving',\n",
       "  'earth',\n",
       "  'revelation',\n",
       "  'man',\n",
       "  'conservation',\n",
       "  'biodiversity',\n",
       "  'unit',\n",
       "  'description',\n",
       "  'includingclassification',\n",
       "  'taxonomistâ'],\n",
       " 'CD': ['1the', '2biological', '3plant', '4animal'],\n",
       " 'IN': ['in',\n",
       "  'of',\n",
       "  'of',\n",
       "  'between',\n",
       "  'of',\n",
       "  'among',\n",
       "  'of',\n",
       "  'of',\n",
       "  'that',\n",
       "  'of',\n",
       "  'in',\n",
       "  'in',\n",
       "  'of',\n",
       "  'in',\n",
       "  'of',\n",
       "  'in',\n",
       "  'out',\n",
       "  'of',\n",
       "  'of',\n",
       "  'of',\n",
       "  'organisms',\n",
       "  'that',\n",
       "  'on',\n",
       "  'for',\n",
       "  'of',\n",
       "  'in',\n",
       "  'of',\n",
       "  'of',\n",
       "  'from'],\n",
       " 'DT': ['the',\n",
       "  'the',\n",
       "  'the',\n",
       "  'an',\n",
       "  'the',\n",
       "  'some',\n",
       "  'the',\n",
       "  'some',\n",
       "  'the',\n",
       "  'a',\n",
       "  'the',\n",
       "  'the',\n",
       "  'the',\n",
       "  'the',\n",
       "  'the',\n",
       "  'both',\n",
       "  'all',\n",
       "  'each',\n",
       "  'all',\n",
       "  'this',\n",
       "  'a',\n",
       "  'this',\n",
       "  'a',\n",
       "  'a'],\n",
       " 'VBZ': ['is', 'worldcomprises', 'perceive'],\n",
       " 'NNS': ['forms',\n",
       "  'processes',\n",
       "  'organisms',\n",
       "  'animals',\n",
       "  'plants',\n",
       "  'forms',\n",
       "  'objects',\n",
       "  'organisms',\n",
       "  'beings',\n",
       "  'societies',\n",
       "  'forms',\n",
       "  'studies',\n",
       "  'similarities',\n",
       "  'organisms',\n",
       "  'movements',\n",
       "  'chapters',\n",
       "  'animals',\n",
       "  'plants'],\n",
       " 'CC': ['and', 'and', 'and', 'and', 'and', 'and', 'and', 'and', 'and', 'and'],\n",
       " '.': ['.', '.', '.', '.', '.', '.', '.', '.', '.', '.', '.', '.'],\n",
       " 'JJ': ['amazing',\n",
       "  'early',\n",
       "  'inanimate',\n",
       "  'early',\n",
       "  'inanimate',\n",
       "  'common',\n",
       "  'such',\n",
       "  'animate',\n",
       "  'includinghuman',\n",
       "  'human',\n",
       "  'anthropocentric',\n",
       "  'biological',\n",
       "  'systematic',\n",
       "  'detailed',\n",
       "  'such',\n",
       "  'present',\n",
       "  'other',\n",
       "  'cultural',\n",
       "  'perspective',\n",
       "  '2019-2020'],\n",
       " 'RB': ['couldeasily', 'much', 'horizontally', 'vertically', 'also', 'ever'],\n",
       " 'VBD': ['deified',\n",
       "  'was',\n",
       "  'evoked',\n",
       "  'began',\n",
       "  'whichindulged',\n",
       "  'was',\n",
       "  'lived',\n",
       "  'was',\n",
       "  'humbled',\n",
       "  'andled',\n",
       "  's'],\n",
       " '(': ['('],\n",
       " ',': [',', ',', ',', ',', ',', ',', ',', ',', ','],\n",
       " ')': [')'],\n",
       " 'VBP': ['fear', 'are'],\n",
       " 'PRP': ['they', 'you'],\n",
       " 'RBR': ['later'],\n",
       " 'MD': ['could', 'will'],\n",
       " 'VB': ['register', 'get'],\n",
       " 'VBN': ['brought', 'related'],\n",
       " 'JJS': ['biggest'],\n",
       " 'VBG': ['amongliving', 'thefollowing'],\n",
       " 'TO': ['to', 'to', 'to'],\n",
       " 'WP': ['organismsthat'],\n",
       " 'WDT': ['which'],\n",
       " 'NNP': ['€', '™']}"
      ]
     },
     "execution_count": 63,
     "metadata": {},
     "output_type": "execute_result"
    }
   ],
   "source": [
    "pos_dict"
   ]
  },
  {
   "cell_type": "markdown",
   "id": "271c39b2",
   "metadata": {},
   "source": [
    "Determinam frecventa partilor de vorbire in corpus-ul dat."
   ]
  },
  {
   "cell_type": "code",
   "execution_count": 44,
   "id": "af355e85",
   "metadata": {},
   "outputs": [],
   "source": [
    "pos_tag_fd = FreqDist(tag for (word, tag) in pos).most_common()"
   ]
  },
  {
   "cell_type": "code",
   "execution_count": 45,
   "id": "4489cdd4",
   "metadata": {},
   "outputs": [
    {
     "data": {
      "text/plain": [
       "[('NN', 59),\n",
       " ('IN', 29),\n",
       " ('DT', 24),\n",
       " ('JJ', 20),\n",
       " ('NNS', 18),\n",
       " ('.', 12),\n",
       " ('VBD', 11),\n",
       " ('CC', 10),\n",
       " (',', 9),\n",
       " ('RB', 6),\n",
       " ('CD', 4),\n",
       " ('VBZ', 3),\n",
       " ('TO', 3),\n",
       " ('VBP', 2),\n",
       " ('PRP', 2),\n",
       " ('MD', 2),\n",
       " ('VB', 2),\n",
       " ('VBN', 2),\n",
       " ('VBG', 2),\n",
       " ('NNP', 2),\n",
       " ('(', 1),\n",
       " (')', 1),\n",
       " ('RBR', 1),\n",
       " ('JJS', 1),\n",
       " ('WP', 1),\n",
       " ('WDT', 1)]"
      ]
     },
     "execution_count": 45,
     "metadata": {},
     "output_type": "execute_result"
    }
   ],
   "source": [
    "pos_tag_fd"
   ]
  },
  {
   "cell_type": "markdown",
   "id": "49164bef",
   "metadata": {},
   "source": [
    "- Se observa ca cea mai frecventa parte de vorbire este substantivul. In cazul corpus-ului nostru asta este un lucru motivat de faptul ca continutul este o lucrare stiintifica si se opereaza cu multi termeni.\n",
    "- Cele mai putin utilizate parti de vorbire din corpus-ul dat sunt: *adverbul comparativ*, *adjectivul in superlativ* si *verbul in present tense*. Toate aceste se intalnesc o singura data in corpus-ul studiat."
   ]
  }
 ],
 "metadata": {
  "kernelspec": {
   "display_name": "Python 3",
   "language": "python",
   "name": "python3"
  },
  "language_info": {
   "codemirror_mode": {
    "name": "ipython",
    "version": 3
   },
   "file_extension": ".py",
   "mimetype": "text/x-python",
   "name": "python",
   "nbconvert_exporter": "python",
   "pygments_lexer": "ipython3",
   "version": "3.8.7"
  }
 },
 "nbformat": 4,
 "nbformat_minor": 5
}
