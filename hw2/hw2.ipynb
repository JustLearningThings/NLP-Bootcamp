{
 "cells": [
  {
   "cell_type": "code",
   "execution_count": 1,
   "id": "b833888b",
   "metadata": {},
   "outputs": [],
   "source": [
    "import nltk\n",
    "\n",
    "from nltk.tokenize import word_tokenize, sent_tokenize, casual_tokenize, MWETokenizer\n",
    "from nltk.stem import PorterStemmer, LancasterStemmer, SnowballStemmer\n",
    "from nltk.probability import FreqDist\n",
    "from nltk import pos_tag\n",
    "\n",
    "import pandas"
   ]
  },
  {
   "cell_type": "markdown",
   "id": "4a29702a",
   "metadata": {},
   "source": [
    "# Task 1. Reading the .txt file."
   ]
  },
  {
   "cell_type": "markdown",
   "id": "ef6cb22b",
   "metadata": {},
   "source": [
    "Open with the python open function the file “class_11_biology_chapter_1_0.txt” from the “TEST/biology” folder. Extract the full content of the file in one unique string at the lower case.\n",
    "NOTE: The following tasks should be done on the string in the lower case.\n"
   ]
  },
  {
   "cell_type": "code",
   "execution_count": 2,
   "id": "f1236780",
   "metadata": {},
   "outputs": [],
   "source": [
    "f = open('./DATA/BIO_CS_DATA/TEST/biology/class_11_biology_chapter_1_0.txt', 'r')\n",
    "\n",
    "file_str = f.read().lower()"
   ]
  },
  {
   "cell_type": "code",
   "execution_count": 3,
   "id": "bf894e0f",
   "metadata": {},
   "outputs": [
    {
     "data": {
      "text/plain": [
       "'chapter 1\\nthe living world\\n\\nchapter 2\\nbiological classification\\n\\nchapter 3\\nplant kingdom\\n\\nchapter 4\\nanimal kingdom\\n\\n \\n\\nunit i\\n\\ndiversity in the living world\\n\\nbiology is the science of life forms and living processes. the living world\\ncomprises an amazing diversity of living organisms. early man could\\neasily perceive the difference between inanimate matter and living\\norganisms. early man deified some of the inanimate matter (wind, sea,\\nfire etc.) and some among the animals and plants. a common feature of\\nall such forms of inanimate and animate objects was the sense of awe\\nor fear that they evoked. the description of living organisms including\\nhuman beings began much later in human history. societies which\\nindulged in anthropocentric view of biology could register limited\\nprogress in biological knowledge. systematic and monumental\\ndescription of life forms brought in, out of necessity, detailed systems\\nof identification, nomenclature and classification. the biggest spin off\\nof such studies was the recognition of the sharing of similarities among\\nliving organisms both horizontally and vertically. that all present day\\nliving organisms are related to each other and also to all organisms\\nthat ever lived on this earth, was a revelation which humbled man and\\nled to cultural movements for conservation of biodiversity. in the\\nfollowing chapters of this unit, you will get a description, including\\nclassification, of animals and plants from a taxonomistâ€™s perspective.\\n\\n2019-2020'"
      ]
     },
     "execution_count": 3,
     "metadata": {},
     "output_type": "execute_result"
    }
   ],
   "source": [
    "file_str"
   ]
  },
  {
   "cell_type": "markdown",
   "id": "5c5e39d4",
   "metadata": {},
   "source": [
    "# Task 2. Obtain the file metadata."
   ]
  },
  {
   "cell_type": "markdown",
   "id": "d305c52e",
   "metadata": {},
   "source": [
    "Get the following metadata about the content of the file.\n",
    "###### HINT: Save the unique tokens obtained by every tokenizer in a set you will need it for the next task."
   ]
  },
  {
   "cell_type": "markdown",
   "id": "1d558998",
   "metadata": {},
   "source": [
    "### 1. The number of sentences extracted by sent_tokenize from nltk."
   ]
  },
  {
   "cell_type": "code",
   "execution_count": 4,
   "id": "0852eb61",
   "metadata": {},
   "outputs": [],
   "source": [
    "sentences = sent_tokenize(file_str)"
   ]
  },
  {
   "cell_type": "code",
   "execution_count": 6,
   "id": "e00c3055",
   "metadata": {},
   "outputs": [
    {
     "data": {
      "text/plain": [
       "13"
      ]
     },
     "execution_count": 6,
     "metadata": {},
     "output_type": "execute_result"
    }
   ],
   "source": [
    "len(sentences)"
   ]
  },
  {
   "cell_type": "markdown",
   "id": "5e6566a9",
   "metadata": {},
   "source": [
    "### 2. The number of unique tokens obtained with word_tokenize from nltk."
   ]
  },
  {
   "cell_type": "code",
   "execution_count": 7,
   "id": "7e2c7ccc",
   "metadata": {},
   "outputs": [],
   "source": [
    "tokens_word = word_tokenize(file_str)\n",
    "tokens_word_set = set(tokens_word)"
   ]
  },
  {
   "cell_type": "code",
   "execution_count": 9,
   "id": "9eeac1ae",
   "metadata": {},
   "outputs": [
    {
     "data": {
      "text/plain": [
       "251"
      ]
     },
     "execution_count": 9,
     "metadata": {},
     "output_type": "execute_result"
    }
   ],
   "source": [
    "len(tokens_word)"
   ]
  },
  {
   "cell_type": "markdown",
   "id": "c28ed8d9",
   "metadata": {},
   "source": [
    "### 3. The number of unique tokens obtained with casual_tokenize from nltk."
   ]
  },
  {
   "cell_type": "code",
   "execution_count": 10,
   "id": "da8099b2",
   "metadata": {},
   "outputs": [],
   "source": [
    "tokens_casual = casual_tokenize(file_str)\n",
    "tokens_casual_set = set(tokens_casual)"
   ]
  },
  {
   "cell_type": "code",
   "execution_count": 11,
   "id": "a364cdfa",
   "metadata": {},
   "outputs": [
    {
     "data": {
      "text/plain": [
       "254"
      ]
     },
     "execution_count": 11,
     "metadata": {},
     "output_type": "execute_result"
    }
   ],
   "source": [
    "len(tokens_casual)"
   ]
  },
  {
   "cell_type": "markdown",
   "id": "fe80e17a",
   "metadata": {},
   "source": [
    "### 4. The number of unique tokens obtained with MWETokenizer from nltk."
   ]
  },
  {
   "cell_type": "code",
   "execution_count": 12,
   "id": "67edfc3e",
   "metadata": {},
   "outputs": [],
   "source": [
    "mwe = MWETokenizer([('in', 'the'), ('get', 'a')])\n",
    "tokens_mwe = mwe.tokenize(casual_tokenize(file_str))\n",
    "tokens_mwe_set = set(tokens_mwe)"
   ]
  },
  {
   "cell_type": "code",
   "execution_count": 13,
   "id": "0b0a5774",
   "metadata": {},
   "outputs": [
    {
     "data": {
      "text/plain": [
       "251"
      ]
     },
     "execution_count": 13,
     "metadata": {},
     "output_type": "execute_result"
    }
   ],
   "source": [
    "len(tokens_mwe)"
   ]
  },
  {
   "cell_type": "markdown",
   "id": "98a7b183",
   "metadata": {},
   "source": [
    "### 5. The mean number of words (tokens) per sentence in the text by every tokenizer."
   ]
  },
  {
   "cell_type": "code",
   "execution_count": null,
   "id": "7b380758",
   "metadata": {},
   "outputs": [],
   "source": [
    "mean_list = []\n",
    "\n",
    "for s in sentences:\n",
    "    mean_list.append({\n",
    "        'word_tokenizer': len(word_tokenize(s)),\n",
    "        'casual_tokenizer': len(casual_tokenize(s)),\n",
    "        'MWETokenizer': len(mwe.tokenize(casual_tokenize(s)))\n",
    "        })"
   ]
  },
  {
   "cell_type": "code",
   "execution_count": 15,
   "id": "76a26493",
   "metadata": {},
   "outputs": [
    {
     "data": {
      "text/plain": [
       "[{'word_tokenizer': 35, 'casual_tokenizer': 35, 'MWETokenizer': 34},\n",
       " {'word_tokenizer': 11, 'casual_tokenizer': 11, 'MWETokenizer': 11},\n",
       " {'word_tokenizer': 14, 'casual_tokenizer': 14, 'MWETokenizer': 14},\n",
       " {'word_tokenizer': 17, 'casual_tokenizer': 17, 'MWETokenizer': 17},\n",
       " {'word_tokenizer': 8, 'casual_tokenizer': 8, 'MWETokenizer': 8},\n",
       " {'word_tokenizer': 23, 'casual_tokenizer': 23, 'MWETokenizer': 23},\n",
       " {'word_tokenizer': 15, 'casual_tokenizer': 15, 'MWETokenizer': 15},\n",
       " {'word_tokenizer': 16, 'casual_tokenizer': 16, 'MWETokenizer': 16},\n",
       " {'word_tokenizer': 23, 'casual_tokenizer': 23, 'MWETokenizer': 23},\n",
       " {'word_tokenizer': 23, 'casual_tokenizer': 23, 'MWETokenizer': 23},\n",
       " {'word_tokenizer': 39, 'casual_tokenizer': 39, 'MWETokenizer': 39},\n",
       " {'word_tokenizer': 26, 'casual_tokenizer': 29, 'MWETokenizer': 27},\n",
       " {'word_tokenizer': 1, 'casual_tokenizer': 1, 'MWETokenizer': 1}]"
      ]
     },
     "execution_count": 15,
     "metadata": {},
     "output_type": "execute_result"
    }
   ],
   "source": [
    "mean_list"
   ]
  },
  {
   "cell_type": "markdown",
   "id": "f95b8904",
   "metadata": {},
   "source": [
    "# Task 3. Comparing the Stemmers."
   ]
  },
  {
   "cell_type": "markdown",
   "id": "91e67a9b",
   "metadata": {},
   "source": [
    "Get the union of all unique tokens found by every tokenizer. \n",
    "\n",
    "Use this new created set to find the stemmed form of this token generated by every of the following stemmers - **PorterStemmer**, **LancasterStemmer** and **SnowballStemmer**.\n",
    "\n",
    "Save the result in a pandas DataFrame. Compare the result and differences of every stemmer."
   ]
  },
  {
   "cell_type": "code",
   "execution_count": 33,
   "id": "1fa628a0",
   "metadata": {},
   "outputs": [],
   "source": [
    "token_union = tokens_word_set.union(tokens_casual_set).union(tokens_mwe_set)"
   ]
  },
  {
   "cell_type": "markdown",
   "id": "fb0a7da0",
   "metadata": {},
   "source": [
    "Setarea stemmer-urilor"
   ]
  },
  {
   "cell_type": "code",
   "execution_count": 18,
   "id": "92a3822a",
   "metadata": {},
   "outputs": [],
   "source": [
    "porter = PorterStemmer()\n",
    "lancaster = LancasterStemmer()\n",
    "snowball = SnowballStemmer(language='english')"
   ]
  },
  {
   "cell_type": "markdown",
   "id": "275518d8",
   "metadata": {},
   "source": [
    "Obtinem listele necesare pentru DateFrame"
   ]
  },
  {
   "cell_type": "code",
   "execution_count": 19,
   "id": "d4a5c140",
   "metadata": {},
   "outputs": [],
   "source": [
    "original_token_list = [t for t in token_union]\n",
    "stemmed_list_porter = [porter.stem(t) for t in token_union]\n",
    "stemmed_list_lancaster = [lancaster.stem(t) for t in token_union]\n",
    "stemmed_list_snowball = [snowball.stem(t) for t in token_union]"
   ]
  },
  {
   "cell_type": "markdown",
   "id": "3d7a230b",
   "metadata": {},
   "source": [
    "Cream un DateFrame."
   ]
  },
  {
   "cell_type": "code",
   "execution_count": 20,
   "id": "89967f94",
   "metadata": {},
   "outputs": [],
   "source": [
    "df = pandas.DataFrame(data={\n",
    "    'original_token': original_token_list,\n",
    "    'porter': stemmed_list_porter,\n",
    "    'lancaster': stemmed_list_lancaster,\n",
    "    'snowball': stemmed_list_snowball\n",
    "    })"
   ]
  },
  {
   "cell_type": "code",
   "execution_count": 21,
   "id": "762df069",
   "metadata": {},
   "outputs": [
    {
     "data": {
      "text/html": [
       "<div>\n",
       "<style scoped>\n",
       "    .dataframe tbody tr th:only-of-type {\n",
       "        vertical-align: middle;\n",
       "    }\n",
       "\n",
       "    .dataframe tbody tr th {\n",
       "        vertical-align: top;\n",
       "    }\n",
       "\n",
       "    .dataframe thead th {\n",
       "        text-align: right;\n",
       "    }\n",
       "</style>\n",
       "<table border=\"1\" class=\"dataframe\">\n",
       "  <thead>\n",
       "    <tr style=\"text-align: right;\">\n",
       "      <th></th>\n",
       "      <th>original_token</th>\n",
       "      <th>porter</th>\n",
       "      <th>lancaster</th>\n",
       "      <th>snowball</th>\n",
       "    </tr>\n",
       "  </thead>\n",
       "  <tbody>\n",
       "    <tr>\n",
       "      <th>0</th>\n",
       "      <td>perceive</td>\n",
       "      <td>perceiv</td>\n",
       "      <td>perceiv</td>\n",
       "      <td>perceiv</td>\n",
       "    </tr>\n",
       "    <tr>\n",
       "      <th>1</th>\n",
       "      <td>description</td>\n",
       "      <td>descript</td>\n",
       "      <td>describ</td>\n",
       "      <td>descript</td>\n",
       "    </tr>\n",
       "    <tr>\n",
       "      <th>2</th>\n",
       "      <td>in</td>\n",
       "      <td>in</td>\n",
       "      <td>in</td>\n",
       "      <td>in</td>\n",
       "    </tr>\n",
       "    <tr>\n",
       "      <th>3</th>\n",
       "      <td>.</td>\n",
       "      <td>.</td>\n",
       "      <td>.</td>\n",
       "      <td>.</td>\n",
       "    </tr>\n",
       "    <tr>\n",
       "      <th>4</th>\n",
       "      <td>among</td>\n",
       "      <td>among</td>\n",
       "      <td>among</td>\n",
       "      <td>among</td>\n",
       "    </tr>\n",
       "    <tr>\n",
       "      <th>...</th>\n",
       "      <td>...</td>\n",
       "      <td>...</td>\n",
       "      <td>...</td>\n",
       "      <td>...</td>\n",
       "    </tr>\n",
       "    <tr>\n",
       "      <th>133</th>\n",
       "      <td>objects</td>\n",
       "      <td>object</td>\n",
       "      <td>object</td>\n",
       "      <td>object</td>\n",
       "    </tr>\n",
       "    <tr>\n",
       "      <th>134</th>\n",
       "      <td>recognition</td>\n",
       "      <td>recognit</td>\n",
       "      <td>recognit</td>\n",
       "      <td>recognit</td>\n",
       "    </tr>\n",
       "    <tr>\n",
       "      <th>135</th>\n",
       "      <td>will</td>\n",
       "      <td>will</td>\n",
       "      <td>wil</td>\n",
       "      <td>will</td>\n",
       "    </tr>\n",
       "    <tr>\n",
       "      <th>136</th>\n",
       "      <td>some</td>\n",
       "      <td>some</td>\n",
       "      <td>som</td>\n",
       "      <td>some</td>\n",
       "    </tr>\n",
       "    <tr>\n",
       "      <th>137</th>\n",
       "      <td>etc</td>\n",
       "      <td>etc</td>\n",
       "      <td>etc</td>\n",
       "      <td>etc</td>\n",
       "    </tr>\n",
       "  </tbody>\n",
       "</table>\n",
       "<p>138 rows × 4 columns</p>\n",
       "</div>"
      ],
      "text/plain": [
       "    original_token    porter lancaster  snowball\n",
       "0         perceive   perceiv   perceiv   perceiv\n",
       "1      description  descript   describ  descript\n",
       "2               in        in        in        in\n",
       "3                .         .         .         .\n",
       "4            among     among     among     among\n",
       "..             ...       ...       ...       ...\n",
       "133        objects    object    object    object\n",
       "134    recognition  recognit  recognit  recognit\n",
       "135           will      will       wil      will\n",
       "136           some      some       som      some\n",
       "137            etc       etc       etc       etc\n",
       "\n",
       "[138 rows x 4 columns]"
      ]
     },
     "execution_count": 21,
     "metadata": {},
     "output_type": "execute_result"
    }
   ],
   "source": [
    "df"
   ]
  },
  {
   "cell_type": "markdown",
   "id": "33b9b7fc",
   "metadata": {},
   "source": [
    "# Task 4. Frequencies of words."
   ]
  },
  {
   "cell_type": "markdown",
   "id": "5004bb5f",
   "metadata": {},
   "source": [
    "Using the lower case string obtained from the file, get the frequencies of the word. What are the 10 most frequent tokens? \n",
    "\n",
    "Extract the list of the hapaxes.\n",
    "\n",
    "Plot the frequency of the words in the descending order as a scatter plot, How similar it is to the zipf law? Why?\n"
   ]
  },
  {
   "cell_type": "code",
   "execution_count": 22,
   "id": "622cf2db",
   "metadata": {},
   "outputs": [],
   "source": [
    "freq_dist = FreqDist(casual_tokenize(file_str))\n",
    "most_common = freq_dist.most_common(10)"
   ]
  },
  {
   "cell_type": "code",
   "execution_count": 23,
   "id": "51102ccd",
   "metadata": {},
   "outputs": [
    {
     "data": {
      "text/plain": [
       "FreqDist({'of': 17, 'the': 13, '.': 12, 'and': 11, 'living': 9, ',': 9, 'in': 6, 'organisms': 6, 'chapter': 4, 'a': 4, ...})"
      ]
     },
     "execution_count": 23,
     "metadata": {},
     "output_type": "execute_result"
    }
   ],
   "source": [
    "freq_dist"
   ]
  },
  {
   "cell_type": "code",
   "execution_count": 24,
   "id": "6183d7d0",
   "metadata": {},
   "outputs": [
    {
     "data": {
      "text/plain": [
       "[('of', 17),\n",
       " ('the', 13),\n",
       " ('.', 12),\n",
       " ('and', 11),\n",
       " ('living', 9),\n",
       " (',', 9),\n",
       " ('in', 6),\n",
       " ('organisms', 6),\n",
       " ('chapter', 4),\n",
       " ('a', 4)]"
      ]
     },
     "execution_count": 24,
     "metadata": {},
     "output_type": "execute_result"
    }
   ],
   "source": [
    "most_common"
   ]
  },
  {
   "cell_type": "code",
   "execution_count": 25,
   "id": "7ac247ec",
   "metadata": {},
   "outputs": [],
   "source": [
    "hapaxes = freq_dist.hapaxes()"
   ]
  },
  {
   "cell_type": "code",
   "execution_count": 26,
   "id": "80c62dd3",
   "metadata": {},
   "outputs": [
    {
     "data": {
      "text/plain": [
       "['1',\n",
       " '2',\n",
       " '3',\n",
       " 'plant',\n",
       " '4',\n",
       " 'animal',\n",
       " 'i',\n",
       " 'is',\n",
       " 'science',\n",
       " 'processes',\n",
       " 'comprises',\n",
       " 'an',\n",
       " 'amazing',\n",
       " 'easily',\n",
       " 'perceive',\n",
       " 'difference',\n",
       " 'between',\n",
       " 'deified',\n",
       " '(',\n",
       " 'wind',\n",
       " 'sea',\n",
       " 'fire',\n",
       " 'etc',\n",
       " ')',\n",
       " 'common',\n",
       " 'feature',\n",
       " 'animate',\n",
       " 'objects',\n",
       " 'sense',\n",
       " 'awe',\n",
       " 'or',\n",
       " 'fear',\n",
       " 'they',\n",
       " 'evoked',\n",
       " 'beings',\n",
       " 'began',\n",
       " 'much',\n",
       " 'later',\n",
       " 'history',\n",
       " 'societies',\n",
       " 'indulged',\n",
       " 'anthropocentric',\n",
       " 'view',\n",
       " 'register',\n",
       " 'limited',\n",
       " 'progress',\n",
       " 'knowledge',\n",
       " 'systematic',\n",
       " 'monumental',\n",
       " 'brought',\n",
       " 'out',\n",
       " 'necessity',\n",
       " 'detailed',\n",
       " 'systems',\n",
       " 'identification',\n",
       " 'nomenclature',\n",
       " 'biggest',\n",
       " 'spin',\n",
       " 'off',\n",
       " 'studies',\n",
       " 'recognition',\n",
       " 'sharing',\n",
       " 'similarities',\n",
       " 'both',\n",
       " 'horizontally',\n",
       " 'vertically',\n",
       " 'present',\n",
       " 'day',\n",
       " 'are',\n",
       " 'related',\n",
       " 'each',\n",
       " 'other',\n",
       " 'also',\n",
       " 'ever',\n",
       " 'lived',\n",
       " 'on',\n",
       " 'earth',\n",
       " 'revelation',\n",
       " 'humbled',\n",
       " 'led',\n",
       " 'cultural',\n",
       " 'movements',\n",
       " 'for',\n",
       " 'conservation',\n",
       " 'biodiversity',\n",
       " 'following',\n",
       " 'chapters',\n",
       " 'you',\n",
       " 'will',\n",
       " 'get',\n",
       " 'from',\n",
       " 'taxonomistâ',\n",
       " '€',\n",
       " '™',\n",
       " 's',\n",
       " 'perspective',\n",
       " '2019-2020']"
      ]
     },
     "execution_count": 26,
     "metadata": {},
     "output_type": "execute_result"
    }
   ],
   "source": [
    "hapaxes"
   ]
  },
  {
   "cell_type": "code",
   "execution_count": 27,
   "id": "5290d174",
   "metadata": {},
   "outputs": [
    {
     "data": {
      "image/png": "[encoded data removed]",
      "text/plain": [
       "<Figure size 432x288 with 1 Axes>"
      ]
     },
     "metadata": {
      "needs_background": "light"
     },
     "output_type": "display_data"
    },
    {
     "data": {
      "text/plain": [
       "<AxesSubplot:xlabel='Samples', ylabel='Counts'>"
      ]
     },
     "execution_count": 27,
     "metadata": {},
     "output_type": "execute_result"
    }
   ],
   "source": [
    "freq_dist.plot()"
   ]
  },
  {
   "cell_type": "markdown",
   "id": "b49a1946",
   "metadata": {},
   "source": [
    "- Se observa, in primul rand, ca majoritatea cuvintelor sunt hapaxe din cauza ca corpus-ul este mic.\n",
    "- Din acelasi motiv, se observa 'alunecari' din ce in ce mai vizible apropiindu-ne de y=1.\n",
    "- Daca am fi avut un corpus gigantic, graficul ar fi fost apropiat de o functie liniara la aparenta.\n",
    "- Din grafic se observa ca fie avem cuvinte foarte des intalnite, fie avem hapaxe, ceea ce indica ca avem un corpus mic."
   ]
  },
  {
   "cell_type": "markdown",
   "id": "548b5163",
   "metadata": {},
   "source": [
    "# Task 5. Part of speech tagging."
   ]
  },
  {
   "cell_type": "markdown",
   "id": "bee7c394",
   "metadata": {},
   "source": [
    "Extract from the text the part of speech of every token, and group them in dictionary with the following form:\n",
    "\n",
    "##### {“POS” : [list of tokens with this POS] }\n",
    "\n",
    "What is the most common part of speech and why? What is the part of speech that has the smallest frequency?"
   ]
  },
  {
   "cell_type": "code",
   "execution_count": 28,
   "id": "7d88ae01",
   "metadata": {},
   "outputs": [],
   "source": [
    "pos = pos_tag(casual_tokenize(file_str))\n",
    "pos_dict = { tag: [] for (word, tag) in pos }\n",
    "\n",
    "for (word, tag) in pos:\n",
    "    pos_dict[tag].append(word)"
   ]
  },
  {
   "cell_type": "code",
   "execution_count": 29,
   "id": "427a9823",
   "metadata": {},
   "outputs": [
    {
     "data": {
      "text/plain": [
       "{'NN': ['chapter',\n",
       "  'living',\n",
       "  'world',\n",
       "  'chapter',\n",
       "  'classification',\n",
       "  'chapter',\n",
       "  'plant',\n",
       "  'kingdom',\n",
       "  'chapter',\n",
       "  'kingdom',\n",
       "  'unit',\n",
       "  'diversity',\n",
       "  'living',\n",
       "  'world',\n",
       "  'biology',\n",
       "  'science',\n",
       "  'life',\n",
       "  'living',\n",
       "  'living',\n",
       "  'world',\n",
       "  'diversity',\n",
       "  'living',\n",
       "  'man',\n",
       "  'difference',\n",
       "  'matter',\n",
       "  'man',\n",
       "  'matter',\n",
       "  'wind',\n",
       "  'sea',\n",
       "  'fire',\n",
       "  'etc',\n",
       "  'feature',\n",
       "  'inanimate',\n",
       "  'sense',\n",
       "  'awe',\n",
       "  'fear',\n",
       "  'description',\n",
       "  'living',\n",
       "  'history',\n",
       "  'view',\n",
       "  'biology',\n",
       "  'progress',\n",
       "  'knowledge',\n",
       "  'description',\n",
       "  'life',\n",
       "  'necessity',\n",
       "  'identification',\n",
       "  'nomenclature',\n",
       "  'classification',\n",
       "  'spin',\n",
       "  'recognition',\n",
       "  'sharing',\n",
       "  'living',\n",
       "  'day',\n",
       "  'living',\n",
       "  'earth',\n",
       "  'revelation',\n",
       "  'man',\n",
       "  'conservation',\n",
       "  'biodiversity',\n",
       "  'unit',\n",
       "  'description',\n",
       "  'classification',\n",
       "  'taxonomistâ'],\n",
       " 'CD': ['1', '2', '3', '4'],\n",
       " 'DT': ['the',\n",
       "  'the',\n",
       "  'the',\n",
       "  'the',\n",
       "  'an',\n",
       "  'the',\n",
       "  'some',\n",
       "  'the',\n",
       "  'some',\n",
       "  'the',\n",
       "  'a',\n",
       "  'all',\n",
       "  'the',\n",
       "  'the',\n",
       "  'the',\n",
       "  'the',\n",
       "  'the',\n",
       "  'both',\n",
       "  'all',\n",
       "  'each',\n",
       "  'all',\n",
       "  'this',\n",
       "  'a',\n",
       "  'the',\n",
       "  'this',\n",
       "  'a',\n",
       "  'a'],\n",
       " 'JJ': ['biological',\n",
       "  'animal',\n",
       "  'i',\n",
       "  'amazing',\n",
       "  'early',\n",
       "  'inanimate',\n",
       "  'early',\n",
       "  'inanimate',\n",
       "  'common',\n",
       "  'such',\n",
       "  'animate',\n",
       "  'human',\n",
       "  'human',\n",
       "  'anthropocentric',\n",
       "  'limited',\n",
       "  'biological',\n",
       "  'systematic',\n",
       "  'monumental',\n",
       "  'detailed',\n",
       "  'such',\n",
       "  'present',\n",
       "  'other',\n",
       "  'cultural',\n",
       "  'following',\n",
       "  'perspective',\n",
       "  '2019-2020'],\n",
       " 'IN': ['in',\n",
       "  'of',\n",
       "  'of',\n",
       "  'between',\n",
       "  'of',\n",
       "  'among',\n",
       "  'of',\n",
       "  'of',\n",
       "  'of',\n",
       "  'that',\n",
       "  'of',\n",
       "  'in',\n",
       "  'in',\n",
       "  'of',\n",
       "  'in',\n",
       "  'of',\n",
       "  'in',\n",
       "  'out',\n",
       "  'of',\n",
       "  'of',\n",
       "  'off',\n",
       "  'of',\n",
       "  'of',\n",
       "  'of',\n",
       "  'among',\n",
       "  'that',\n",
       "  'that',\n",
       "  'on',\n",
       "  'for',\n",
       "  'of',\n",
       "  'in',\n",
       "  'of',\n",
       "  'of',\n",
       "  'from'],\n",
       " 'VBZ': ['is', 'comprises'],\n",
       " 'NNS': ['forms',\n",
       "  'processes',\n",
       "  'organisms',\n",
       "  'organisms',\n",
       "  'animals',\n",
       "  'plants',\n",
       "  'forms',\n",
       "  'objects',\n",
       "  'organisms',\n",
       "  'beings',\n",
       "  'societies',\n",
       "  'forms',\n",
       "  'systems',\n",
       "  'studies',\n",
       "  'similarities',\n",
       "  'organisms',\n",
       "  'organisms',\n",
       "  'organisms',\n",
       "  'movements',\n",
       "  'chapters',\n",
       "  'animals',\n",
       "  'plants'],\n",
       " 'CC': ['and',\n",
       "  'and',\n",
       "  'and',\n",
       "  'and',\n",
       "  'and',\n",
       "  'or',\n",
       "  'and',\n",
       "  'and',\n",
       "  'and',\n",
       "  'and',\n",
       "  'and',\n",
       "  'and'],\n",
       " '.': ['.', '.', '.', '.', '.', '.', '.', '.', '.', '.', '.', '.'],\n",
       " 'MD': ['could', 'could', 'will'],\n",
       " 'RB': ['easily', 'much', 'horizontally', 'vertically', 'also', 'ever'],\n",
       " 'VB': ['perceive', 'register', 'get'],\n",
       " 'VBG': ['living', 'including', 'including'],\n",
       " 'VBD': ['deified',\n",
       "  'was',\n",
       "  'evoked',\n",
       "  'began',\n",
       "  'indulged',\n",
       "  'was',\n",
       "  'lived',\n",
       "  'was',\n",
       "  'humbled',\n",
       "  'led',\n",
       "  's'],\n",
       " '(': ['('],\n",
       " ',': [',', ',', ',', ',', ',', ',', ',', ',', ','],\n",
       " ')': [')'],\n",
       " 'PRP': ['they', 'you'],\n",
       " 'RBR': ['later'],\n",
       " 'WDT': ['which', 'which'],\n",
       " 'VBN': ['brought', 'related'],\n",
       " 'JJS': ['biggest'],\n",
       " 'VBP': ['are'],\n",
       " 'TO': ['to', 'to', 'to'],\n",
       " 'NNP': ['€', '™']}"
      ]
     },
     "execution_count": 29,
     "metadata": {},
     "output_type": "execute_result"
    }
   ],
   "source": [
    "pos_dict"
   ]
  },
  {
   "cell_type": "markdown",
   "id": "d5fb6c26",
   "metadata": {},
   "source": [
    "Determinam frecventa partilor de vorbire in corpus-ul dat."
   ]
  },
  {
   "cell_type": "code",
   "execution_count": 30,
   "id": "15c069b2",
   "metadata": {},
   "outputs": [],
   "source": [
    "pos_tag_fd = FreqDist(tag for (word, tag) in pos).most_common()"
   ]
  },
  {
   "cell_type": "code",
   "execution_count": 31,
   "id": "53c21cb8",
   "metadata": {},
   "outputs": [
    {
     "data": {
      "text/plain": [
       "[('NN', 64),\n",
       " ('IN', 34),\n",
       " ('DT', 27),\n",
       " ('JJ', 26),\n",
       " ('NNS', 22),\n",
       " ('CC', 12),\n",
       " ('.', 12),\n",
       " ('VBD', 11),\n",
       " (',', 9),\n",
       " ('RB', 6),\n",
       " ('CD', 4),\n",
       " ('MD', 3),\n",
       " ('VB', 3),\n",
       " ('VBG', 3),\n",
       " ('TO', 3),\n",
       " ('VBZ', 2),\n",
       " ('PRP', 2),\n",
       " ('WDT', 2),\n",
       " ('VBN', 2),\n",
       " ('NNP', 2),\n",
       " ('(', 1),\n",
       " (')', 1),\n",
       " ('RBR', 1),\n",
       " ('JJS', 1),\n",
       " ('VBP', 1)]"
      ]
     },
     "execution_count": 31,
     "metadata": {},
     "output_type": "execute_result"
    }
   ],
   "source": [
    "pos_tag_fd"
   ]
  },
  {
   "cell_type": "markdown",
   "id": "86457a87",
   "metadata": {},
   "source": [
    "- Se observa ca cea mai frecventa parte de vorbire este substantivul. In cazul corpus-ului nostru asta este un lucru motivat de faptul ca continutul este o lucrare stiintifica si se opereaza cu multi termeni.\n",
    "- Cele mai putin utilizate parti de vorbire din corpus-ul dat sunt: *adverbul comparativ*, *adjectivul in superlativ* si *verbul in present tense*. Toate aceste se intalnesc o singura data in corpus-ul studiat."
   ]
  },
  {
   "cell_type": "code",
   "execution_count": null,
   "id": "ef384b27",
   "metadata": {},
   "outputs": [],
   "source": []
  }
 ],
 "metadata": {
  "kernelspec": {
   "display_name": "Python 3",
   "language": "python",
   "name": "python3"
  },
  "language_info": {
   "codemirror_mode": {
    "name": "ipython",
    "version": 3
   },
   "file_extension": ".py",
   "mimetype": "text/x-python",
   "name": "python",
   "nbconvert_exporter": "python",
   "pygments_lexer": "ipython3",
   "version": "3.8.7"
  }
 },
 "nbformat": 4,
 "nbformat_minor": 5
}
