{
 "cells": [
  {
   "cell_type": "code",
   "execution_count": 1,
   "id": "b8bf27b0",
   "metadata": {},
   "outputs": [],
   "source": [
    "import pandas as pd\n",
    "\n",
    "train_df = pd.read_csv('./data/toxic_train.csv')\n",
    "test_df = pd.read_csv('./data/toxic_test.csv')"
   ]
  },
  {
   "cell_type": "code",
   "execution_count": 2,
   "id": "8e2283e8",
   "metadata": {},
   "outputs": [
    {
     "data": {
      "text/html": [
       "<div>\n",
       "<style scoped>\n",
       "    .dataframe tbody tr th:only-of-type {\n",
       "        vertical-align: middle;\n",
       "    }\n",
       "\n",
       "    .dataframe tbody tr th {\n",
       "        vertical-align: top;\n",
       "    }\n",
       "\n",
       "    .dataframe thead th {\n",
       "        text-align: right;\n",
       "    }\n",
       "</style>\n",
       "<table border=\"1\" class=\"dataframe\">\n",
       "  <thead>\n",
       "    <tr style=\"text-align: right;\">\n",
       "      <th></th>\n",
       "      <th>comment_text</th>\n",
       "      <th>toxic</th>\n",
       "    </tr>\n",
       "  </thead>\n",
       "  <tbody>\n",
       "    <tr>\n",
       "      <th>0</th>\n",
       "      <td>Explanation\\r\\nWhy the edits made under my use...</td>\n",
       "      <td>0</td>\n",
       "    </tr>\n",
       "    <tr>\n",
       "      <th>1</th>\n",
       "      <td>D'aww! He matches this background colour I'm s...</td>\n",
       "      <td>0</td>\n",
       "    </tr>\n",
       "    <tr>\n",
       "      <th>2</th>\n",
       "      <td>Hey man, I'm really not trying to edit war. It...</td>\n",
       "      <td>0</td>\n",
       "    </tr>\n",
       "    <tr>\n",
       "      <th>3</th>\n",
       "      <td>\"\\r\\nMore\\r\\nI can't make any real suggestions...</td>\n",
       "      <td>0</td>\n",
       "    </tr>\n",
       "    <tr>\n",
       "      <th>4</th>\n",
       "      <td>You, sir, are my hero. Any chance you remember...</td>\n",
       "      <td>0</td>\n",
       "    </tr>\n",
       "    <tr>\n",
       "      <th>...</th>\n",
       "      <td>...</td>\n",
       "      <td>...</td>\n",
       "    </tr>\n",
       "    <tr>\n",
       "      <th>159566</th>\n",
       "      <td>\":::::And for the second time of asking, when ...</td>\n",
       "      <td>0</td>\n",
       "    </tr>\n",
       "    <tr>\n",
       "      <th>159567</th>\n",
       "      <td>You should be ashamed of yourself \\r\\n\\r\\nThat...</td>\n",
       "      <td>0</td>\n",
       "    </tr>\n",
       "    <tr>\n",
       "      <th>159568</th>\n",
       "      <td>Spitzer \\r\\n\\r\\nUmm, theres no actual article ...</td>\n",
       "      <td>0</td>\n",
       "    </tr>\n",
       "    <tr>\n",
       "      <th>159569</th>\n",
       "      <td>And it looks like it was actually you who put ...</td>\n",
       "      <td>0</td>\n",
       "    </tr>\n",
       "    <tr>\n",
       "      <th>159570</th>\n",
       "      <td>\"\\r\\nAnd ... I really don't think you understa...</td>\n",
       "      <td>0</td>\n",
       "    </tr>\n",
       "  </tbody>\n",
       "</table>\n",
       "<p>159571 rows × 2 columns</p>\n",
       "</div>"
      ],
      "text/plain": [
       "                                             comment_text  toxic\n",
       "0       Explanation\\r\\nWhy the edits made under my use...      0\n",
       "1       D'aww! He matches this background colour I'm s...      0\n",
       "2       Hey man, I'm really not trying to edit war. It...      0\n",
       "3       \"\\r\\nMore\\r\\nI can't make any real suggestions...      0\n",
       "4       You, sir, are my hero. Any chance you remember...      0\n",
       "...                                                   ...    ...\n",
       "159566  \":::::And for the second time of asking, when ...      0\n",
       "159567  You should be ashamed of yourself \\r\\n\\r\\nThat...      0\n",
       "159568  Spitzer \\r\\n\\r\\nUmm, theres no actual article ...      0\n",
       "159569  And it looks like it was actually you who put ...      0\n",
       "159570  \"\\r\\nAnd ... I really don't think you understa...      0\n",
       "\n",
       "[159571 rows x 2 columns]"
      ]
     },
     "execution_count": 2,
     "metadata": {},
     "output_type": "execute_result"
    }
   ],
   "source": [
    "train_df = train_df.drop(columns=['Unnamed: 0'])\n",
    "train_df"
   ]
  },
  {
   "cell_type": "code",
   "execution_count": 3,
   "id": "ab7b47c1",
   "metadata": {},
   "outputs": [
    {
     "data": {
      "text/html": [
       "<div>\n",
       "<style scoped>\n",
       "    .dataframe tbody tr th:only-of-type {\n",
       "        vertical-align: middle;\n",
       "    }\n",
       "\n",
       "    .dataframe tbody tr th {\n",
       "        vertical-align: top;\n",
       "    }\n",
       "\n",
       "    .dataframe thead th {\n",
       "        text-align: right;\n",
       "    }\n",
       "</style>\n",
       "<table border=\"1\" class=\"dataframe\">\n",
       "  <thead>\n",
       "    <tr style=\"text-align: right;\">\n",
       "      <th></th>\n",
       "      <th>comment_text</th>\n",
       "      <th>toxic</th>\n",
       "    </tr>\n",
       "  </thead>\n",
       "  <tbody>\n",
       "    <tr>\n",
       "      <th>0</th>\n",
       "      <td>Thank you for understanding. I think very high...</td>\n",
       "      <td>0</td>\n",
       "    </tr>\n",
       "    <tr>\n",
       "      <th>1</th>\n",
       "      <td>:Dear god this site is horrible.</td>\n",
       "      <td>0</td>\n",
       "    </tr>\n",
       "    <tr>\n",
       "      <th>2</th>\n",
       "      <td>\"::: Somebody will invariably try to add Relig...</td>\n",
       "      <td>0</td>\n",
       "    </tr>\n",
       "    <tr>\n",
       "      <th>3</th>\n",
       "      <td>\" \\r\\n\\r\\n It says it right there that it IS a...</td>\n",
       "      <td>0</td>\n",
       "    </tr>\n",
       "    <tr>\n",
       "      <th>4</th>\n",
       "      <td>\" \\r\\n\\r\\n == Before adding a new product to t...</td>\n",
       "      <td>0</td>\n",
       "    </tr>\n",
       "    <tr>\n",
       "      <th>...</th>\n",
       "      <td>...</td>\n",
       "      <td>...</td>\n",
       "    </tr>\n",
       "    <tr>\n",
       "      <th>63973</th>\n",
       "      <td>:Jerome, I see you never got around to this…! ...</td>\n",
       "      <td>0</td>\n",
       "    </tr>\n",
       "    <tr>\n",
       "      <th>63974</th>\n",
       "      <td>==Lucky bastard== \\r\\n http://wikimediafoundat...</td>\n",
       "      <td>0</td>\n",
       "    </tr>\n",
       "    <tr>\n",
       "      <th>63975</th>\n",
       "      <td>==shame on you all!!!== \\r\\n\\r\\n You want to s...</td>\n",
       "      <td>0</td>\n",
       "    </tr>\n",
       "    <tr>\n",
       "      <th>63976</th>\n",
       "      <td>MEL GIBSON IS A NAZI BITCH WHO MAKES SHITTY MO...</td>\n",
       "      <td>1</td>\n",
       "    </tr>\n",
       "    <tr>\n",
       "      <th>63977</th>\n",
       "      <td>\" \\r\\n\\r\\n == Unicorn lair discovery == \\r\\n\\r...</td>\n",
       "      <td>0</td>\n",
       "    </tr>\n",
       "  </tbody>\n",
       "</table>\n",
       "<p>63978 rows × 2 columns</p>\n",
       "</div>"
      ],
      "text/plain": [
       "                                            comment_text  toxic\n",
       "0      Thank you for understanding. I think very high...      0\n",
       "1                       :Dear god this site is horrible.      0\n",
       "2      \"::: Somebody will invariably try to add Relig...      0\n",
       "3      \" \\r\\n\\r\\n It says it right there that it IS a...      0\n",
       "4      \" \\r\\n\\r\\n == Before adding a new product to t...      0\n",
       "...                                                  ...    ...\n",
       "63973  :Jerome, I see you never got around to this…! ...      0\n",
       "63974  ==Lucky bastard== \\r\\n http://wikimediafoundat...      0\n",
       "63975  ==shame on you all!!!== \\r\\n\\r\\n You want to s...      0\n",
       "63976  MEL GIBSON IS A NAZI BITCH WHO MAKES SHITTY MO...      1\n",
       "63977  \" \\r\\n\\r\\n == Unicorn lair discovery == \\r\\n\\r...      0\n",
       "\n",
       "[63978 rows x 2 columns]"
      ]
     },
     "execution_count": 3,
     "metadata": {},
     "output_type": "execute_result"
    }
   ],
   "source": [
    "test_df = test_df.drop(columns=['Unnamed: 0'])\n",
    "test_df"
   ]
  },
  {
   "cell_type": "markdown",
   "id": "c72b7d1f",
   "metadata": {},
   "source": [
    "## Preprocessing"
   ]
  },
  {
   "cell_type": "code",
   "execution_count": 4,
   "id": "2554a55c",
   "metadata": {},
   "outputs": [
    {
     "data": {
      "text/plain": [
       "['\"\\r\\n\\r\\n WP:AWB \\r\\n\\r\\nYou already seem to be approved for this; I would have done so anyhow. andemu \"',\n",
       " \"Danica Patrick's origin isn't from a video game. \\r\\n\\r\\nIf Cyberlink420, or anybody else, has proof that she originates from a video game, please provide a citation. Thank you. 118.21.142.128\",\n",
       " \"STOP editing and creating pages in Monterey County, California\\r\\nPlease stop creating new stu for nonfor non-existant, unlocatable locations, including Animpa|Amo, [[Esl, Eslanagan, Californiagan, n, Gurnia|G, [[Kak, Kakonkaruk, k, Kalindaruk, Kulul, Lukaiasta, Paisin, Quina, Sapaywis, Seama, Soccorondo, Steloglamo, Subazama, Tecolom, Teshaya, Tetachoya, Tiubta, Wachanaruka, Zassalete and Zumblito. These locations could be listed in an article on native Indian sites of Monterey County, but to create 21 stubs that reference no other related articles and are not themselves referenced by other articles creates a lot of wasted editing time for other editors.\\r\\n\\r\\nAlso, please read articles that you add information to, like you had failed to do before editing Spreckels, California by adding info that was already noted elsewhere in the article. It appears as though you have acquired a new reference book and are intent to transfer as much of it as possible into Wikipedia. The creation of stubs or the addition of new information to articles you either have no experience in or don't read before editing causes a lot of unnecessary work. Please slow down (or stop!).\",\n",
       " '\"\\r\\n\\r\\nIt\\'s truly disturbing that such a slimy, disingenguous troll is allowed free rein here without sanction and the apparent support of the administrative section. You KNOW that Freeman was a far greater expert on Samoa, as he is universally described by the secondary sources. But you are looking for any tenuous excuse to belittle his authority because you are so transparently biased and dishonest. Yes, his dissertation was on Borneo, does that preclude him from being an expert in anything else? As you KNOW, it doesn\\'t. Boas\\' dissertation was on the color of water, should I write \"\"Franz Boas, whose own research was on the color of water\"\" everytime he is introduced in an anthropological dispute to discredit him? PLEASE STOP WASTING MY TIME WITH LAME SOPHISTRY, BIAS AND DISHONESTY. Thank you.   \"',\n",
       " 'Calton, remember, you were ordered to stay away from me just as I was ordered to stay away from you.\\r\\n\\r\\nYou are, as is usual, delusional.  | Talk',\n",
       " '\"::In response to this comment \"\"(no ethnic Macedonians and certainly no ethnic Thracians!! And certainly many ethnicities.\"\" from above. Apparently there is check out this and this. Apparently there are \"\"ethnic thracians\"\".   \\r\\n\\r\\n\"',\n",
       " '\"\\r\\n\\r\\nBut if you agree that the band is not necessarily Christian just because the members are or may be Christian, why do you have trouble closing the loop to declare that the band members are not necessarily \"\"evangelical Christians\"\"? The only evangelizing that\\'s going on is in the music and in the in-makeup band interviews. If the band evangelizes something other than Christianity, as Violent J states and you seem to agree, then it\\'s misleading to call the individual members \"\"evangelical Christians\"\". They may be Christians who evangelize something, but they are not evangelical Christians.    \"',\n",
       " \"So sorry about the hex. Usually they don't take hold.\",\n",
       " 'I am a snob so I can secretly ignore your STUPID comments you FAT LITTLE IDIOTS!',\n",
       " '\"\\r\\n\\r\\n Message Reply \\r\\nWell, for starters, the welcome is a little late, considering i\\'ve been here since September. And that edit wasn\\'t intended to be vandalism, merely a misunderstanding of malarkey\\'s meaning. \\'\\'\\'\\'  21:48 20 July 2011 (UTC)\"']"
      ]
     },
     "execution_count": 4,
     "metadata": {},
     "output_type": "execute_result"
    }
   ],
   "source": [
    "# selecting text data\n",
    "\n",
    "train_df = train_df.sample(frac=1) #shuffling the training dataset\n",
    "train = train_df['comment_text']\n",
    "train = train.to_list()\n",
    "train[:10]"
   ]
  },
  {
   "cell_type": "markdown",
   "id": "5d9ae3cb",
   "metadata": {},
   "source": [
    "### Creating a transformer for preprocessing text data"
   ]
  },
  {
   "cell_type": "code",
   "execution_count": 5,
   "id": "8587d72b",
   "metadata": {},
   "outputs": [],
   "source": [
    "from sklearn.base import BaseEstimator, TransformerMixin\n",
    "\n",
    "import nltk\n",
    "from nltk.probability import FreqDist\n",
    "from nltk.tokenize import word_tokenize, sent_tokenize\n",
    "\n",
    "import re\n",
    "\n",
    "# transformer class\n",
    "class TextTransformer(BaseEstimator, TransformerMixin):\n",
    "    def __init__(self, stopwords, stemmer):\n",
    "        super().__init__()\n",
    "        self.stopwords = stopwords\n",
    "        self.stemmer = stemmer\n",
    "        self.hapaxes = []\n",
    "        self.named_entities = []\n",
    "    \n",
    "    # by default a transformer's fit method just returns self\n",
    "    def fit(self, X, y=None):\n",
    "        return self\n",
    "    \n",
    "    def transform(self, X, y=None):\n",
    "        for i, sample in enumerate(X):\n",
    "            X[i] = self.__normalize(sample)\n",
    "            X[i] = self.__eliminate_stopwords(X[i])\n",
    "            X[i] = self.__get_hapaxes(X[i])\n",
    "            X[i] = self.__stem(X[i])\n",
    "            self.__named_entity_extraction(X[i])\n",
    "        \n",
    "        return X\n",
    "\n",
    "    def __normalize(self, text):\n",
    "        return ' '.join(re.findall('[a-zA-Z]+', text.lower().replace(r'\\r', ' ').replace(r'\\n', ' ')))\n",
    "    \n",
    "    def __eliminate_stopwords(self, text):\n",
    "        if self.stopwords is not None:\n",
    "            return ''.join([word for word in text if word not in self.stopwords])\n",
    "    \n",
    "    def __get_hapaxes(self, text, eliminate=True):\n",
    "        fd = FreqDist(word_tokenize(text))\n",
    "        self.hapaxes.append(fd.hapaxes())\n",
    "                       \n",
    "        if eliminate:\n",
    "            text = ''.join([word for word in text if word not in self.hapaxes])\n",
    "        \n",
    "        return text\n",
    "    \n",
    "    def __stem(self, text):\n",
    "        return ' '.join([self.stemmer.stem(word) for word in word_tokenize(text)])\n",
    "    \n",
    "    def __named_entity_extraction(self, text):\n",
    "        for sent in sent_tokenize(text):\n",
    "            for chunk in nltk.ne_chunk(nltk.pos_tag(word_tokenize(sent))):\n",
    "                if hasattr(chunk, 'label'):\n",
    "                    self.named_entities.append(chunk)"
   ]
  },
  {
   "cell_type": "markdown",
   "id": "d5865d8d",
   "metadata": {},
   "source": [
    "### Using the transformer to preprocess the training text"
   ]
  },
  {
   "cell_type": "code",
   "execution_count": 6,
   "id": "9d085c16",
   "metadata": {},
   "outputs": [],
   "source": [
    "from nltk.stem import PorterStemmer\n",
    "\n",
    "transformer = TextTransformer(stopwords=['and', 'for', 'in', 'about', 'for', 'as', 'the'], stemmer=PorterStemmer())"
   ]
  },
  {
   "cell_type": "code",
   "execution_count": 7,
   "id": "dbf1a3b8",
   "metadata": {},
   "outputs": [
    {
     "data": {
      "text/plain": [
       "['wp awb you alreadi seem to be approv for thi i would have done so anyhow andemu',\n",
       " 'danica patrick s origin isn t from a video game if cyberlink or anybodi els ha proof that she origin from a video game pleas provid a citat thank you',\n",
       " 'stop edit and creat page in monterey counti california pleas stop creat new stu for nonfor non exist unlocat locat includ animpa amo esl eslanagan californiagan n gurnia g kak kakonkaruk k kalindaruk kulul lukaiasta paisin quina sapaywi seama soccorondo steloglamo subazama tecolom teshaya tetachoya tiubta wachanaruka zassalet and zumblito these locat could be list in an articl on nativ indian site of monterey counti but to creat stub that refer no other relat articl and are not themselv referenc by other articl creat a lot of wast edit time for other editor also pleas read articl that you add inform to like you had fail to do befor edit spreckel california by ad info that wa alreadi note elsewher in the articl it appear as though you have acquir a new refer book and are intent to transfer as much of it as possibl into wikipedia the creation of stub or the addit of new inform to articl you either have no experi in or don t read befor edit caus a lot of unnecessari work pleas slow down or stop',\n",
       " 'it s truli disturb that such a slimi disingengu troll is allow free rein here without sanction and the appar support of the administr section you know that freeman wa a far greater expert on samoa as he is univers describ by the secondari sourc but you are look for ani tenuou excus to belittl hi author becaus you are so transpar bias and dishonest ye hi dissert wa on borneo doe that preclud him from be an expert in anyth els as you know it doesn t boa dissert wa on the color of water should i write franz boa whose own research wa on the color of water everytim he is introduc in an anthropolog disput to discredit him pleas stop wast my time with lame sophistri bia and dishonesti thank you',\n",
       " 'calton rememb you were order to stay away from me just as i wa order to stay away from you you are as is usual delusion talk',\n",
       " 'in respons to thi comment no ethnic macedonian and certainli no ethnic thracian and certainli mani ethnic from abov appar there is check out thi and thi appar there are ethnic thracian',\n",
       " 'but if you agre that the band is not necessarili christian just becaus the member are or may be christian whi do you have troubl close the loop to declar that the band member are not necessarili evangel christian the onli evangel that s go on is in the music and in the in makeup band interview if the band evangel someth other than christian as violent j state and you seem to agre then it s mislead to call the individu member evangel christian they may be christian who evangel someth but they are not evangel christian',\n",
       " 'so sorri about the hex usual they don t take hold',\n",
       " 'i am a snob so i can secretli ignor your stupid comment you fat littl idiot',\n",
       " 'messag repli well for starter the welcom is a littl late consid i ve been here sinc septemb and that edit wasn t intend to be vandal mere a misunderstand of malarkey s mean juli utc']"
      ]
     },
     "execution_count": 7,
     "metadata": {},
     "output_type": "execute_result"
    }
   ],
   "source": [
    "train = transformer.transform(train[:1024])\n",
    "train[:10]"
   ]
  },
  {
   "cell_type": "markdown",
   "id": "767230d8",
   "metadata": {},
   "source": [
    "## Choosing the model"
   ]
  },
  {
   "cell_type": "markdown",
   "id": "a94efbf0",
   "metadata": {},
   "source": [
    "The plan is to test the accuracy of different models on the same dataset."
   ]
  },
  {
   "cell_type": "code",
   "execution_count": 18,
   "id": "78a2d56e",
   "metadata": {},
   "outputs": [],
   "source": [
    "from sklearn.metrics import accuracy_score, plot_confusion_matrix\n",
    "\n",
    "from sklearn.pipeline import make_pipeline\n",
    "from sklearn.feature_extraction.text import CountVectorizer, TfidfVectorizer\n",
    "from sklearn.preprocessing import MaxAbsScaler"
   ]
  },
  {
   "cell_type": "markdown",
   "id": "4ca70c11",
   "metadata": {},
   "source": [
    "### The training dataset"
   ]
  },
  {
   "cell_type": "code",
   "execution_count": 19,
   "id": "3018ad64",
   "metadata": {},
   "outputs": [
    {
     "data": {
      "text/plain": [
       "(array(['wp awb you alreadi seem to be approv for thi i would have done so anyhow andemu',\n",
       "        'danica patrick s origin isn t from a video game if cyberlink or anybodi els ha proof that she origin from a video game pleas provid a citat thank you',\n",
       "        'stop edit and creat page in monterey counti california pleas stop creat new stu for nonfor non exist unlocat locat includ animpa amo esl eslanagan californiagan n gurnia g kak kakonkaruk k kalindaruk kulul lukaiasta paisin quina sapaywi seama soccorondo steloglamo subazama tecolom teshaya tetachoya tiubta wachanaruka zassalet and zumblito these locat could be list in an articl on nativ indian site of monterey counti but to creat stub that refer no other relat articl and are not themselv referenc by other articl creat a lot of wast edit time for other editor also pleas read articl that you add inform to like you had fail to do befor edit spreckel california by ad info that wa alreadi note elsewher in the articl it appear as though you have acquir a new refer book and are intent to transfer as much of it as possibl into wikipedia the creation of stub or the addit of new inform to articl you either have no experi in or don t read befor edit caus a lot of unnecessari work pleas slow down or stop',\n",
       "        ...,\n",
       "        'and i never got a chanc to state my case sinc your littl friend block me befor i even had the chanc to defend myself and now i m permantli block becaus of your lie don t you dare threaten me anymor or tell me to be civil becaus i ve been noth but civil toward you and you ve been horribl in return',\n",
       "        'hmmm get walk stick and tug off stage they re complet synonym other than the fact that lycanthropi is the technic term howev that said it s still not enough to fill an entir uniqu articl it can all be said in the werewolf articl stop be so darn collabor ca jk the tribe consensu ha spoken and it s time to implement the chang stop pander be bold and finish merg there s no reason reason for not merg the articl histori is there so thing can be revers sorri just rear to go and the same thing happen on vampir where semant stop progress cheer',\n",
       "        'thi individu insult the wikipedia commun by refer to heterosexu as breeder in order to expos the hypocrisi of thi i ask how it felt to be the product of a coupl of breeder to interpret thi as anti gay is a cognit failur logic win'],\n",
       "       dtype=object),\n",
       " array([0, 0, 0, ..., 1, 0, 0], dtype=int64))"
      ]
     },
     "execution_count": 19,
     "metadata": {},
     "output_type": "execute_result"
    }
   ],
   "source": [
    "X = pd.DataFrame(train, columns=['text']).dropna()['text'].values\n",
    "y = train_df[:1024]['toxic'].dropna().values\n",
    "X, y"
   ]
  },
  {
   "cell_type": "code",
   "execution_count": 20,
   "id": "60e11d99",
   "metadata": {},
   "outputs": [
    {
     "data": {
      "text/plain": [
       "((1024,), (1024,))"
      ]
     },
     "execution_count": 20,
     "metadata": {},
     "output_type": "execute_result"
    }
   ],
   "source": [
    "X.shape, y.shape"
   ]
  },
  {
   "cell_type": "markdown",
   "id": "4d860960",
   "metadata": {},
   "source": [
    "### The testing dataset"
   ]
  },
  {
   "cell_type": "code",
   "execution_count": 21,
   "id": "88755b1d",
   "metadata": {},
   "outputs": [
    {
     "data": {
      "text/plain": [
       "(array(['Thank you for understanding. I think very highly of you and would not revert without discussion.',\n",
       "        ':Dear god this site is horrible.',\n",
       "        '\"::: Somebody will invariably try to add Religion?  Really??  You mean, the way people have invariably kept adding \"\"Religion\"\" to the Samuel Beckett infobox?  And why do you bother bringing up the long-dead completely non-existent \"\"Influences\"\" issue?  You\\'re just flailing, making up crap on the fly. \\r\\n ::: For comparison, the only explicit acknowledgement in the entire Amos Oz article that he is personally Jewish is in the categories!    \\r\\n\\r\\n \"',\n",
       "        ...,\n",
       "        '\", 26 July 2010 (UTC) \\r\\n ::Can they be pink with blue spots?  Joking aside I don\\'t think we can and it should probably stop.  Off2rio has taken this position on right wing articles for some time, generally against consensus.  Ditto on some of the British Isles disputes.  My original point (which I have probably repeated for too long) is that we have to fall back to references.  General POV accusations without evidence of editing other than in accordance with policy is I think disruptive, but its part of life here.   I\\'ll go and cook a meal, pour a shot of Penderyn and watch Star Treck on Sky.     18:16\"',\n",
       "        \"OH DEAR - HOW TERRIBLE ! GIVEN THAT IT TAKES 10 SECONDS TO GET A NEW USERNAME AND IP ADDRESS WHAT FUCKING DIFFERENCE DOES IT MAKE ? DON'T YOU HAVE ANYTHING BETTER TO DO WITH YOUR LIFE, OR CAN'T YOU HANDLE THE REAL WORLD ?\",\n",
       "        '\" \\r\\n :The page was basically copied from an existing WP article... but upon closer review I see nothing in the copied version that would warrant a copy vio tag.  I don\\'t see it.-\\'\\'\\' \\' \"'],\n",
       "       dtype=object),\n",
       " array([0, 0, 0, ..., 0, 0, 0], dtype=int64))"
      ]
     },
     "execution_count": 21,
     "metadata": {},
     "output_type": "execute_result"
    }
   ],
   "source": [
    "X_test = test_df[:1024]['comment_text'].values\n",
    "y_test = test_df[:1024]['toxic'].values\n",
    "X_test, y_test"
   ]
  },
  {
   "cell_type": "markdown",
   "id": "5a6b0630",
   "metadata": {},
   "source": [
    "### Logistic Regression"
   ]
  },
  {
   "cell_type": "code",
   "execution_count": 22,
   "id": "05a62dfd",
   "metadata": {},
   "outputs": [
    {
     "data": {
      "text/plain": [
       "<sklearn.metrics._plot.confusion_matrix.ConfusionMatrixDisplay at 0xd1db760>"
      ]
     },
     "execution_count": 22,
     "metadata": {},
     "output_type": "execute_result"
    },
    {
     "data": {
      "image/png": "[encoded data removed]",
      "text/plain": [
       "<Figure size 432x288 with 2 Axes>"
      ]
     },
     "metadata": {
      "needs_background": "light"
     },
     "output_type": "display_data"
    }
   ],
   "source": [
    "from sklearn.linear_model import LogisticRegression\n",
    "\n",
    "lr_pipe = make_pipeline(\n",
    "    TfidfVectorizer(),\n",
    "    MaxAbsScaler(),\n",
    "    LogisticRegression()\n",
    ")\n",
    "\n",
    "lr_pipe.fit(X, y)\n",
    "plot_confusion_matrix(lr_pipe, X_test, y_test)"
   ]
  },
  {
   "cell_type": "markdown",
   "id": "b7424754",
   "metadata": {},
   "source": [
    "### NB models"
   ]
  },
  {
   "cell_type": "code",
   "execution_count": 24,
   "id": "f51564ae",
   "metadata": {},
   "outputs": [
    {
     "name": "stdout",
     "output_type": "stream",
     "text": [
      "Complement Naive Bayes\n",
      "Bernoulli Naive Bayes\n",
      "Multinomial Naive Bayes\n"
     ]
    },
    {
     "data": {
      "text/plain": [
       "<sklearn.metrics._plot.confusion_matrix.ConfusionMatrixDisplay at 0x1bbc1e38>"
      ]
     },
     "execution_count": 24,
     "metadata": {},
     "output_type": "execute_result"
    },
    {
     "data": {
      "image/png": "[encoded data removed]",
      "text/plain": [
       "<Figure size 432x288 with 2 Axes>"
      ]
     },
     "metadata": {
      "needs_background": "light"
     },
     "output_type": "display_data"
    },
    {
     "data": {
      "image/png": "[encoded data removed]",
      "text/plain": [
       "<Figure size 432x288 with 2 Axes>"
      ]
     },
     "metadata": {
      "needs_background": "light"
     },
     "output_type": "display_data"
    },
    {
     "data": {
      "image/png": "[encoded data removed]",
      "text/plain": [
       "<Figure size 432x288 with 2 Axes>"
      ]
     },
     "metadata": {
      "needs_background": "light"
     },
     "output_type": "display_data"
    }
   ],
   "source": [
    "from sklearn.naive_bayes import ComplementNB, BernoulliNB, MultinomialNB\n",
    "\n",
    "cnb_pipe = make_pipeline(\n",
    "    TfidfVectorizer(),\n",
    "    MaxAbsScaler(),\n",
    "    ComplementNB()\n",
    ")\n",
    "\n",
    "bnb_pipe = make_pipeline(\n",
    "    TfidfVectorizer(),\n",
    "    MaxAbsScaler(),\n",
    "    BernoulliNB()\n",
    ")\n",
    "\n",
    "mnb_pipe = make_pipeline(\n",
    "    TfidfVectorizer(),\n",
    "    MaxAbsScaler(),\n",
    "    MultinomialNB()\n",
    ")\n",
    "\n",
    "# fitting the models\n",
    "cnb_pipe.fit(X, y)\n",
    "print('Complement Naive Bayes')\n",
    "plot_confusion_matrix(cnb_pipe, X_test, y_test)\n",
    "\n",
    "bnb_pipe.fit(X, y)\n",
    "print('Bernoulli Naive Bayes')\n",
    "plot_confusion_matrix(bnb_pipe, X_test, y_test)\n",
    "\n",
    "mnb_pipe.fit(X, y)\n",
    "print('Multinomial Naive Bayes')\n",
    "plot_confusion_matrix(mnb_pipe, X_test, y_test)"
   ]
  },
  {
   "cell_type": "markdown",
   "id": "c02c3fb8",
   "metadata": {},
   "source": [
    "### Decision Tree"
   ]
  },
  {
   "cell_type": "code",
   "execution_count": 25,
   "id": "1155d0df",
   "metadata": {},
   "outputs": [
    {
     "data": {
      "text/plain": [
       "<sklearn.metrics._plot.confusion_matrix.ConfusionMatrixDisplay at 0x3ef7bc8>"
      ]
     },
     "execution_count": 25,
     "metadata": {},
     "output_type": "execute_result"
    },
    {
     "data": {
      "image/png": "[encoded data removed]",
      "text/plain": [
       "<Figure size 432x288 with 2 Axes>"
      ]
     },
     "metadata": {
      "needs_background": "light"
     },
     "output_type": "display_data"
    }
   ],
   "source": [
    "from sklearn.tree import DecisionTreeClassifier\n",
    "\n",
    "dt_pipe = make_pipeline(\n",
    "    TfidfVectorizer(),\n",
    "    MaxAbsScaler(),\n",
    "    DecisionTreeClassifier()\n",
    ")\n",
    "\n",
    "dt_pipe.fit(X, y)\n",
    "plot_confusion_matrix(dt_pipe, X_test, y_test)"
   ]
  },
  {
   "cell_type": "markdown",
   "id": "1da507b7",
   "metadata": {},
   "source": [
    "### K-nearest neighbors"
   ]
  },
  {
   "cell_type": "code",
   "execution_count": 26,
   "id": "960b6fd4",
   "metadata": {},
   "outputs": [
    {
     "data": {
      "text/plain": [
       "<sklearn.metrics._plot.confusion_matrix.ConfusionMatrixDisplay at 0x3e59448>"
      ]
     },
     "execution_count": 26,
     "metadata": {},
     "output_type": "execute_result"
    },
    {
     "data": {
      "image/png": "[encoded data removed]",
      "text/plain": [
       "<Figure size 432x288 with 2 Axes>"
      ]
     },
     "metadata": {
      "needs_background": "light"
     },
     "output_type": "display_data"
    }
   ],
   "source": [
    "from sklearn.neighbors import KNeighborsClassifier\n",
    "\n",
    "kn_pipe = make_pipeline(\n",
    "    TfidfVectorizer(),\n",
    "    MaxAbsScaler(),\n",
    "    KNeighborsClassifier()\n",
    ")\n",
    "\n",
    "kn_pipe.fit(X, y)\n",
    "plot_confusion_matrix(kn_pipe, X_test, y_test)"
   ]
  },
  {
   "cell_type": "markdown",
   "id": "fa882ae8",
   "metadata": {},
   "source": [
    "### Perceptron"
   ]
  },
  {
   "cell_type": "code",
   "execution_count": 27,
   "id": "3d845371",
   "metadata": {},
   "outputs": [
    {
     "data": {
      "text/plain": [
       "<sklearn.metrics._plot.confusion_matrix.ConfusionMatrixDisplay at 0x1bc6f1a8>"
      ]
     },
     "execution_count": 27,
     "metadata": {},
     "output_type": "execute_result"
    },
    {
     "data": {
      "image/png": "[encoded data removed]",
      "text/plain": [
       "<Figure size 432x288 with 2 Axes>"
      ]
     },
     "metadata": {
      "needs_background": "light"
     },
     "output_type": "display_data"
    }
   ],
   "source": [
    "from sklearn.linear_model import Perceptron\n",
    "\n",
    "p_pipe = make_pipeline(\n",
    "    TfidfVectorizer(),\n",
    "    MaxAbsScaler(),\n",
    "    Perceptron()\n",
    ")\n",
    "\n",
    "p_pipe.fit(X, y)\n",
    "plot_confusion_matrix(p_pipe, X_test, y_test)"
   ]
  },
  {
   "cell_type": "markdown",
   "id": "4dfce314",
   "metadata": {},
   "source": [
    "### Support Vector Machine"
   ]
  },
  {
   "cell_type": "code",
   "execution_count": 28,
   "id": "bd70bc94",
   "metadata": {},
   "outputs": [
    {
     "data": {
      "text/plain": [
       "<sklearn.metrics._plot.confusion_matrix.ConfusionMatrixDisplay at 0x3e2ee20>"
      ]
     },
     "execution_count": 28,
     "metadata": {},
     "output_type": "execute_result"
    },
    {
     "data": {
      "image/png": "[encoded data removed]",
      "text/plain": [
       "<Figure size 432x288 with 2 Axes>"
      ]
     },
     "metadata": {
      "needs_background": "light"
     },
     "output_type": "display_data"
    }
   ],
   "source": [
    "from sklearn.svm import SVC\n",
    "\n",
    "svm_pipe = make_pipeline(\n",
    "    TfidfVectorizer(),\n",
    "    MaxAbsScaler(),\n",
    "    SVC()\n",
    ")\n",
    "\n",
    "svm_pipe.fit(X, y)\n",
    "plot_confusion_matrix(svm_pipe, X_test, y_test)"
   ]
  },
  {
   "cell_type": "markdown",
   "id": "82e49164",
   "metadata": {},
   "source": [
    "## Comparing accuracy scores"
   ]
  },
  {
   "cell_type": "code",
   "execution_count": 29,
   "id": "f9ca0072",
   "metadata": {},
   "outputs": [
    {
     "data": {
      "text/html": [
       "<div>\n",
       "<style scoped>\n",
       "    .dataframe tbody tr th:only-of-type {\n",
       "        vertical-align: middle;\n",
       "    }\n",
       "\n",
       "    .dataframe tbody tr th {\n",
       "        vertical-align: top;\n",
       "    }\n",
       "\n",
       "    .dataframe thead th {\n",
       "        text-align: right;\n",
       "    }\n",
       "</style>\n",
       "<table border=\"1\" class=\"dataframe\">\n",
       "  <thead>\n",
       "    <tr style=\"text-align: right;\">\n",
       "      <th></th>\n",
       "      <th>Logistic Regression</th>\n",
       "      <th>Complement NB</th>\n",
       "      <th>Bernoulli NB</th>\n",
       "      <th>Multinomail Regression</th>\n",
       "      <th>K-nearest neighbors</th>\n",
       "      <th>Perceptron</th>\n",
       "      <th>SVM</th>\n",
       "    </tr>\n",
       "  </thead>\n",
       "  <tbody>\n",
       "    <tr>\n",
       "      <th>0</th>\n",
       "      <td>0.918945</td>\n",
       "      <td>0.889648</td>\n",
       "      <td>0.90918</td>\n",
       "      <td>0.914062</td>\n",
       "      <td>0.886719</td>\n",
       "      <td>0.900391</td>\n",
       "      <td>0.912109</td>\n",
       "    </tr>\n",
       "  </tbody>\n",
       "</table>\n",
       "</div>"
      ],
      "text/plain": [
       "   Logistic Regression  Complement NB  Bernoulli NB  Multinomail Regression  \\\n",
       "0             0.918945       0.889648       0.90918                0.914062   \n",
       "\n",
       "   K-nearest neighbors  Perceptron       SVM  \n",
       "0             0.886719    0.900391  0.912109  "
      ]
     },
     "execution_count": 29,
     "metadata": {},
     "output_type": "execute_result"
    }
   ],
   "source": [
    "scores = {\n",
    "    'Logistic Regression': [accuracy_score(y_test, lr_pipe.predict(X_test))],\n",
    "    'Complement NB': [accuracy_score(y_test, cnb_pipe.predict(X_test))],\n",
    "    'Bernoulli NB': [accuracy_score(y_test, bnb_pipe.predict(X_test))],\n",
    "    'Multinomail Regression': [accuracy_score(y_test, mnb_pipe.predict(X_test))],\n",
    "    'K-nearest neighbors': [accuracy_score(y_test, kn_pipe.predict(X_test))],\n",
    "    'Perceptron': [accuracy_score(y_test, p_pipe.predict(X_test))],\n",
    "    'SVM': [accuracy_score(y_test, svm_pipe.predict(X_test))]\n",
    "}\n",
    "\n",
    "scores_df = pd.DataFrame.from_dict(scores)\n",
    "scores_df"
   ]
  },
  {
   "cell_type": "code",
   "execution_count": 30,
   "id": "2bee23d6",
   "metadata": {},
   "outputs": [
    {
     "data": {
      "text/plain": [
       "'Logistic Regression : 0.9189453125'"
      ]
     },
     "execution_count": 30,
     "metadata": {},
     "output_type": "execute_result"
    }
   ],
   "source": [
    "# the best accuracy\n",
    "model_name = scores_df.idxmax(axis=1)[0]\n",
    "f'{model_name} : {scores_df[model_name][0]}'"
   ]
  }
 ],
 "metadata": {
  "kernelspec": {
   "display_name": "Python 3.8.7 32-bit",
   "language": "python",
   "name": "python38732bit4cf8281a1ba34a49bdcb0c9668d62e6c"
  },
  "language_info": {
   "codemirror_mode": {
    "name": "ipython",
    "version": 3
   },
   "file_extension": ".py",
   "mimetype": "text/x-python",
   "name": "python",
   "nbconvert_exporter": "python",
   "pygments_lexer": "ipython3",
   "version": "3.8.7"
  }
 },
 "nbformat": 4,
 "nbformat_minor": 5
}
