{
 "cells": [
  {
   "cell_type": "code",
   "execution_count": 1,
   "id": "b8bf27b0",
   "metadata": {},
   "outputs": [],
   "source": [
    "import pandas as pd\n",
    "\n",
    "# getting the dataset from files\n",
    "train_df = pd.read_csv('./data/toxic_train.csv')\n",
    "test_df = pd.read_csv('./data/toxic_test.csv')"
   ]
  },
  {
   "cell_type": "code",
   "execution_count": 2,
   "id": "8e2283e8",
   "metadata": {},
   "outputs": [
    {
     "data": {
      "text/html": [
       "<div>\n",
       "<style scoped>\n",
       "    .dataframe tbody tr th:only-of-type {\n",
       "        vertical-align: middle;\n",
       "    }\n",
       "\n",
       "    .dataframe tbody tr th {\n",
       "        vertical-align: top;\n",
       "    }\n",
       "\n",
       "    .dataframe thead th {\n",
       "        text-align: right;\n",
       "    }\n",
       "</style>\n",
       "<table border=\"1\" class=\"dataframe\">\n",
       "  <thead>\n",
       "    <tr style=\"text-align: right;\">\n",
       "      <th></th>\n",
       "      <th>comment_text</th>\n",
       "      <th>toxic</th>\n",
       "    </tr>\n",
       "  </thead>\n",
       "  <tbody>\n",
       "    <tr>\n",
       "      <th>0</th>\n",
       "      <td>Explanation\\r\\nWhy the edits made under my use...</td>\n",
       "      <td>0</td>\n",
       "    </tr>\n",
       "    <tr>\n",
       "      <th>1</th>\n",
       "      <td>D'aww! He matches this background colour I'm s...</td>\n",
       "      <td>0</td>\n",
       "    </tr>\n",
       "    <tr>\n",
       "      <th>2</th>\n",
       "      <td>Hey man, I'm really not trying to edit war. It...</td>\n",
       "      <td>0</td>\n",
       "    </tr>\n",
       "    <tr>\n",
       "      <th>3</th>\n",
       "      <td>\"\\r\\nMore\\r\\nI can't make any real suggestions...</td>\n",
       "      <td>0</td>\n",
       "    </tr>\n",
       "    <tr>\n",
       "      <th>4</th>\n",
       "      <td>You, sir, are my hero. Any chance you remember...</td>\n",
       "      <td>0</td>\n",
       "    </tr>\n",
       "    <tr>\n",
       "      <th>...</th>\n",
       "      <td>...</td>\n",
       "      <td>...</td>\n",
       "    </tr>\n",
       "    <tr>\n",
       "      <th>159566</th>\n",
       "      <td>\":::::And for the second time of asking, when ...</td>\n",
       "      <td>0</td>\n",
       "    </tr>\n",
       "    <tr>\n",
       "      <th>159567</th>\n",
       "      <td>You should be ashamed of yourself \\r\\n\\r\\nThat...</td>\n",
       "      <td>0</td>\n",
       "    </tr>\n",
       "    <tr>\n",
       "      <th>159568</th>\n",
       "      <td>Spitzer \\r\\n\\r\\nUmm, theres no actual article ...</td>\n",
       "      <td>0</td>\n",
       "    </tr>\n",
       "    <tr>\n",
       "      <th>159569</th>\n",
       "      <td>And it looks like it was actually you who put ...</td>\n",
       "      <td>0</td>\n",
       "    </tr>\n",
       "    <tr>\n",
       "      <th>159570</th>\n",
       "      <td>\"\\r\\nAnd ... I really don't think you understa...</td>\n",
       "      <td>0</td>\n",
       "    </tr>\n",
       "  </tbody>\n",
       "</table>\n",
       "<p>159571 rows × 2 columns</p>\n",
       "</div>"
      ],
      "text/plain": [
       "                                             comment_text  toxic\n",
       "0       Explanation\\r\\nWhy the edits made under my use...      0\n",
       "1       D'aww! He matches this background colour I'm s...      0\n",
       "2       Hey man, I'm really not trying to edit war. It...      0\n",
       "3       \"\\r\\nMore\\r\\nI can't make any real suggestions...      0\n",
       "4       You, sir, are my hero. Any chance you remember...      0\n",
       "...                                                   ...    ...\n",
       "159566  \":::::And for the second time of asking, when ...      0\n",
       "159567  You should be ashamed of yourself \\r\\n\\r\\nThat...      0\n",
       "159568  Spitzer \\r\\n\\r\\nUmm, theres no actual article ...      0\n",
       "159569  And it looks like it was actually you who put ...      0\n",
       "159570  \"\\r\\nAnd ... I really don't think you understa...      0\n",
       "\n",
       "[159571 rows x 2 columns]"
      ]
     },
     "execution_count": 2,
     "metadata": {},
     "output_type": "execute_result"
    }
   ],
   "source": [
    "# eliminating unnecessary column\n",
    "train_df = train_df.drop(columns=['Unnamed: 0'])\n",
    "train_df"
   ]
  },
  {
   "cell_type": "code",
   "execution_count": 3,
   "id": "ab7b47c1",
   "metadata": {},
   "outputs": [
    {
     "data": {
      "text/html": [
       "<div>\n",
       "<style scoped>\n",
       "    .dataframe tbody tr th:only-of-type {\n",
       "        vertical-align: middle;\n",
       "    }\n",
       "\n",
       "    .dataframe tbody tr th {\n",
       "        vertical-align: top;\n",
       "    }\n",
       "\n",
       "    .dataframe thead th {\n",
       "        text-align: right;\n",
       "    }\n",
       "</style>\n",
       "<table border=\"1\" class=\"dataframe\">\n",
       "  <thead>\n",
       "    <tr style=\"text-align: right;\">\n",
       "      <th></th>\n",
       "      <th>comment_text</th>\n",
       "      <th>toxic</th>\n",
       "    </tr>\n",
       "  </thead>\n",
       "  <tbody>\n",
       "    <tr>\n",
       "      <th>0</th>\n",
       "      <td>Thank you for understanding. I think very high...</td>\n",
       "      <td>0</td>\n",
       "    </tr>\n",
       "    <tr>\n",
       "      <th>1</th>\n",
       "      <td>:Dear god this site is horrible.</td>\n",
       "      <td>0</td>\n",
       "    </tr>\n",
       "    <tr>\n",
       "      <th>2</th>\n",
       "      <td>\"::: Somebody will invariably try to add Relig...</td>\n",
       "      <td>0</td>\n",
       "    </tr>\n",
       "    <tr>\n",
       "      <th>3</th>\n",
       "      <td>\" \\r\\n\\r\\n It says it right there that it IS a...</td>\n",
       "      <td>0</td>\n",
       "    </tr>\n",
       "    <tr>\n",
       "      <th>4</th>\n",
       "      <td>\" \\r\\n\\r\\n == Before adding a new product to t...</td>\n",
       "      <td>0</td>\n",
       "    </tr>\n",
       "    <tr>\n",
       "      <th>...</th>\n",
       "      <td>...</td>\n",
       "      <td>...</td>\n",
       "    </tr>\n",
       "    <tr>\n",
       "      <th>63973</th>\n",
       "      <td>:Jerome, I see you never got around to this…! ...</td>\n",
       "      <td>0</td>\n",
       "    </tr>\n",
       "    <tr>\n",
       "      <th>63974</th>\n",
       "      <td>==Lucky bastard== \\r\\n http://wikimediafoundat...</td>\n",
       "      <td>0</td>\n",
       "    </tr>\n",
       "    <tr>\n",
       "      <th>63975</th>\n",
       "      <td>==shame on you all!!!== \\r\\n\\r\\n You want to s...</td>\n",
       "      <td>0</td>\n",
       "    </tr>\n",
       "    <tr>\n",
       "      <th>63976</th>\n",
       "      <td>MEL GIBSON IS A NAZI BITCH WHO MAKES SHITTY MO...</td>\n",
       "      <td>1</td>\n",
       "    </tr>\n",
       "    <tr>\n",
       "      <th>63977</th>\n",
       "      <td>\" \\r\\n\\r\\n == Unicorn lair discovery == \\r\\n\\r...</td>\n",
       "      <td>0</td>\n",
       "    </tr>\n",
       "  </tbody>\n",
       "</table>\n",
       "<p>63978 rows × 2 columns</p>\n",
       "</div>"
      ],
      "text/plain": [
       "                                            comment_text  toxic\n",
       "0      Thank you for understanding. I think very high...      0\n",
       "1                       :Dear god this site is horrible.      0\n",
       "2      \"::: Somebody will invariably try to add Relig...      0\n",
       "3      \" \\r\\n\\r\\n It says it right there that it IS a...      0\n",
       "4      \" \\r\\n\\r\\n == Before adding a new product to t...      0\n",
       "...                                                  ...    ...\n",
       "63973  :Jerome, I see you never got around to this…! ...      0\n",
       "63974  ==Lucky bastard== \\r\\n http://wikimediafoundat...      0\n",
       "63975  ==shame on you all!!!== \\r\\n\\r\\n You want to s...      0\n",
       "63976  MEL GIBSON IS A NAZI BITCH WHO MAKES SHITTY MO...      1\n",
       "63977  \" \\r\\n\\r\\n == Unicorn lair discovery == \\r\\n\\r...      0\n",
       "\n",
       "[63978 rows x 2 columns]"
      ]
     },
     "execution_count": 3,
     "metadata": {},
     "output_type": "execute_result"
    }
   ],
   "source": [
    "test_df = test_df.drop(columns=['Unnamed: 0'])\n",
    "test_df"
   ]
  },
  {
   "cell_type": "code",
   "execution_count": 4,
   "id": "e69a7dc8",
   "metadata": {},
   "outputs": [
    {
     "name": "stdout",
     "output_type": "stream",
     "text": [
      "0    57888\n",
      "1     6090\n",
      "Name: toxic, dtype: int64\n",
      "0    144277\n",
      "1     15294\n",
      "Name: toxic, dtype: int64\n"
     ]
    }
   ],
   "source": [
    "# number of values of the toxic column (target)\n",
    "print(test_df['toxic'].value_counts())\n",
    "print(train_df['toxic'].value_counts())"
   ]
  },
  {
   "cell_type": "markdown",
   "id": "c72b7d1f",
   "metadata": {},
   "source": [
    "## Preprocessing"
   ]
  },
  {
   "cell_type": "code",
   "execution_count": 5,
   "id": "2554a55c",
   "metadata": {},
   "outputs": [
    {
     "data": {
      "text/plain": [
       "['REDIRECT Talk:John Harley (bishop, died 1788)',\n",
       " \"Response: \\r\\n\\r\\nHi,  checking in. This is a response I was writing to Betty before I was banned:\\r\\n\\r\\nMrs. Logan, this is a whole new level of rudeness. I have made it clear to you multiple times that I wanted to edit that page because I suffer from OCD. I need to use that particular page multiple times because I'm making a big report on movie-making. Because of my medical condition, I decided to do something that bothers absolutely nobody and center the budgets on that particular page, just like the references, years etc. are also centered on the page. You decided to jump in and undo it because it appears that you have nothing better to do than bother somebody for no reason.\\r\\n\\r\\nOn top of that I did not even violate 3RR, so why are you reporting me? And on top of that Mrs. Logan, I have looked into your editing history and MULTIPLE people have reported you over the years.\",\n",
       " 'Its ok, I went ahead and closed it.  It was inadvertant!  We all make mistakes, you are not a regular edit warrer so, a block here would be innapropriate.',\n",
       " '\"\\r\\nThe above discussion is preserved as an archive. Please do not modify it. Subsequent comments should be made in a new section.\"',\n",
       " \"CAPITAL PUNISHMENT\\r\\n\\r\\nJUST LIKE BOLTE, USER:PURRUM LOVES CAPITAL PUNISHMENT TO DEATH\\r\\n\\r\\nYOU WOULDN'T WANT USER:PURRUM ON YOUR JURY\\r\\n\\r\\nUSER:PURRUM WILL FIND YOU GUILTY, EVEN THOUGH THERE MAY NOT BE ANY SCIENTIFIC BALLISTIC FORENSIC EVIDENCE OF PROOF\\r\\n\\r\\nUSER:PURRUM WILL FIND WAYS TO MANIPULATE EVIDENCE AND MAKE SURE YOU GET EXECUTED\\r\\n\\r\\nGO TO USER:PURRUM HISTORY OF CONTRIBUTIONS FOR PROOF\",\n",
       " 'I object and am interested in an honest discussion of the matter. Would it be appropriate to start by indicating which section of Wikipedia:NPOV dispute supports removal?  16:54, 19 Feb 2004 (UTC)',\n",
       " '\"\\r\\nFirst of all It was not me who created this article Wikipedia made this article http://en.wikipedia.org/wiki/Hridayeshwar_Singh_Bhati It was not made by me nor created by me...Obviously it was created by Respected \\xa0雲水,http://en.wikipedia.org/wiki/User:Yunshui Sir. But you  talk to me are determined to spoil the article. You will never understand that the \"\"Family member\"\" quoted by you is \\'Subject of the article in  Wikipedia\"\". Demoting/Abusing/Demeaning/Dejecting the subject of the article of the Wikipedia is also a disrespect for Wikipedia and disrespect for the administrator http://en.wikipedia.org/wiki/User:Yunshui sir If you are that much annoyed with the subject or if you do not find the subject of the article as notable, reliable enough...Why do not you delete this article...After all you are above god...Above Wikipedia...Above administrators. A PIECE OF ADVICE FOR YOU...IF YOU DO NOT CONSIDER THE SUBJECT OF THE ARTICLE http://en.wikipedia.org/wiki/Hridayeshwar_Singh_Bhati, NOTABLE, RELIABLE...PLEASE DELETE IT...Why you are bearing this article..Why you are abusing/insulting everyone. If you do not find the subject of the article ..Worthy enough..Go Ahead & Delete it. Otherwise learn to respect the people who respect the subject of the article of Wikipedia. Subject of the article is not our family member..But the subject of the article is related to Wikipedia. My relative or your enemy does not matter..What matters the most is that the Subject exists in the article of the Wikipedia. Obviously the subject is related to Wikipedia..Never insult/demean/deject/demote the subject..It is insult of Wikipedia also..Put a big ? over the person who created it.122.161.30.232  \"',\n",
       " '\"\\r\\nThnx for d help, i\\'m logging in into twitter, if i will give my personal mobile no. to u there, will u call me ri8 now ??\\xa0\\xa0talk \"',\n",
       " \"Reign Supreme deletion \\r\\n\\r\\nThis article was deleted and I'm a bit confused as to why. The last message in the discussion was a comment by me asking why sources were valid sometimes and not others.\",\n",
       " '\"\\r\\n1)This section is passable. However one concern: some sections are way too long and might be uncomfortable for some readers to navigate. I suggest you shorten some sections.\\r\\n2) Mostly everything seems to be sourced well. However the whole introduction paragraph is not and some facts like the flagbearer are not as well.\\r\\n3) N/A\\r\\n4) N/A\\r\\n5) N/A\\r\\n6) I think you should add 2-3 more images to the article. Some parts are just full of writing a picture needs to be put.\\r\\n\\r\\nAlthough the above issues are minor, I am unable to pass you at the moment and will wait till you fix the above to decided on a pass/fail. TalkContributions  \"']"
      ]
     },
     "execution_count": 5,
     "metadata": {},
     "output_type": "execute_result"
    }
   ],
   "source": [
    "# selecting text data\n",
    "\n",
    "train_df = train_df.sample(frac=1) # shuffling the training dataset\n",
    "train = train_df['comment_text']\n",
    "train = train.to_list()\n",
    "train[:10]"
   ]
  },
  {
   "cell_type": "markdown",
   "id": "5d9ae3cb",
   "metadata": {},
   "source": [
    "### Creating a transformer for preprocessing text data"
   ]
  },
  {
   "cell_type": "code",
   "execution_count": 6,
   "id": "8587d72b",
   "metadata": {},
   "outputs": [],
   "source": [
    "from sklearn.base import BaseEstimator, TransformerMixin # a transformer enherits these classes\n",
    "\n",
    "import nltk\n",
    "from nltk.probability import FreqDist\n",
    "from nltk.tokenize import word_tokenize, sent_tokenize\n",
    "\n",
    "import re\n",
    "\n",
    "# transformer class\n",
    "class TextTransformer(BaseEstimator, TransformerMixin):\n",
    "    def __init__(self, stopwords, stemmer):\n",
    "        super().__init__()\n",
    "        self.stopwords = stopwords\n",
    "        self.stemmer = stemmer\n",
    "        self.hapaxes = []\n",
    "        self.named_entities = []\n",
    "    \n",
    "    # by default a transformer's fit method just returns self\n",
    "    def fit(self, X, y=None):\n",
    "        return self\n",
    "    \n",
    "    def transform(self, X, y=None):\n",
    "        # for every text in the X list transform its data\n",
    "        for i, sample in enumerate(X):\n",
    "            X[i] = self.__normalize(sample)\n",
    "            X[i] = self.__eliminate_stopwords(X[i])\n",
    "            X[i] = self.__get_hapaxes(X[i])\n",
    "            X[i] = self.__stem(X[i])\n",
    "            self.__named_entity_extraction(X[i])\n",
    "        \n",
    "        # return the transformed text list\n",
    "        return X\n",
    "\n",
    "    def __normalize(self, text):\n",
    "        # select only the words, make them lowercase and eliminate \\r and \\n\n",
    "        return ' '.join(re.findall('[a-zA-Z]+', text.lower().replace(r'\\r', ' ').replace(r'\\n', ' ')))\n",
    "    \n",
    "    def __eliminate_stopwords(self, text):\n",
    "        if self.stopwords is not None:\n",
    "            return ''.join([word for word in text if word not in self.stopwords])\n",
    "    \n",
    "    def __get_hapaxes(self, text, eliminate=True):\n",
    "        # getting the hapaxes\n",
    "        fd = FreqDist(word_tokenize(text))\n",
    "        self.hapaxes.append(fd.hapaxes())\n",
    "                       \n",
    "        # eliminating the hapaxes if needed (by default: needed)\n",
    "        if eliminate:\n",
    "            text = ''.join([word for word in text if word not in self.hapaxes])\n",
    "        \n",
    "        return text\n",
    "    \n",
    "    def __stem(self, text):\n",
    "        return ' '.join([self.stemmer.stem(word) for word in word_tokenize(text)])\n",
    "    \n",
    "    def __named_entity_extraction(self, text):\n",
    "        # tokenize text's sentences\n",
    "        for sent in sent_tokenize(text):\n",
    "            # get the part-of-speech tags of every token of the current sentence\n",
    "            for chunk in nltk.ne_chunk(nltk.pos_tag(word_tokenize(sent))):\n",
    "                # store named entities\n",
    "                if hasattr(chunk, 'label'):\n",
    "                    self.named_entities.append(chunk)"
   ]
  },
  {
   "cell_type": "markdown",
   "id": "d5865d8d",
   "metadata": {},
   "source": [
    "### Using the transformer to preprocess the training text"
   ]
  },
  {
   "cell_type": "code",
   "execution_count": 7,
   "id": "9d085c16",
   "metadata": {},
   "outputs": [],
   "source": [
    "from nltk.stem import PorterStemmer\n",
    "\n",
    "# create an instance of the transformer class\n",
    "transformer = TextTransformer(stopwords=['and', 'for', 'in', 'about', 'for', 'as', 'the'], stemmer=PorterStemmer())"
   ]
  },
  {
   "cell_type": "code",
   "execution_count": 8,
   "id": "dbf1a3b8",
   "metadata": {},
   "outputs": [
    {
     "data": {
      "text/plain": [
       "['redirect talk john harley bishop die',\n",
       " 'respons hi check in thi is a respons i wa write to betti befor i wa ban mr logan thi is a whole new level of rude i have made it clear to you multipl time that i want to edit that page becaus i suffer from ocd i need to use that particular page multipl time becaus i m make a big report on movi make becaus of my medic condit i decid to do someth that bother absolut nobodi and center the budget on that particular page just like the refer year etc are also center on the page you decid to jump in and undo it becaus it appear that you have noth better to do than bother somebodi for no reason on top of that i did not even violat rr so whi are you report me and on top of that mr logan i have look into your edit histori and multipl peopl have report you over the year',\n",
       " 'it ok i went ahead and close it it wa inadvert we all make mistak you are not a regular edit warrer so a block here would be innapropri',\n",
       " 'the abov discuss is preserv as an archiv pleas do not modifi it subsequ comment should be made in a new section',\n",
       " 'capit punish just like bolt user purrum love capit punish to death you wouldn t want user purrum on your juri user purrum will find you guilti even though there may not be ani scientif ballist forens evid of proof user purrum will find way to manipul evid and make sure you get execut go to user purrum histori of contribut for proof',\n",
       " 'i object and am interest in an honest discuss of the matter would it be appropri to start by indic which section of wikipedia npov disput support remov feb utc',\n",
       " 'first of all it wa not me who creat thi articl wikipedia made thi articl http en wikipedia org wiki hridayeshwar singh bhati it wa not made by me nor creat by me obvious it wa creat by respect http en wikipedia org wiki user yunshui sir but you talk to me are determin to spoil the articl you will never understand that the famili member quot by you is subject of the articl in wikipedia demot abus demean deject the subject of the articl of the wikipedia is also a disrespect for wikipedia and disrespect for the administr http en wikipedia org wiki user yunshui sir if you are that much annoy with the subject or if you do not find the subject of the articl as notabl reliabl enough whi do not you delet thi articl after all you are abov god abov wikipedia abov administr a piec of advic for you if you do not consid the subject of the articl http en wikipedia org wiki hridayeshwar singh bhati notabl reliabl pleas delet it whi you are bear thi articl whi you are abus insult everyon if you do not find the subject of the articl worthi enough go ahead delet it otherwis learn to respect the peopl who respect the subject of the articl of wikipedia subject of the articl is not our famili member but the subject of the articl is relat to wikipedia my rel or your enemi doe not matter what matter the most is that the subject exist in the articl of the wikipedia obvious the subject is relat to wikipedia never insult demean deject demot the subject it is insult of wikipedia also put a big over the person who creat it',\n",
       " 'thnx for d help i m log in into twitter if i will give my person mobil no to u there will u call me ri now talk',\n",
       " 'reign suprem delet thi articl wa delet and i m a bit confus as to whi the last messag in the discuss wa a comment by me ask whi sourc were valid sometim and not other',\n",
       " 'thi section is passabl howev one concern some section are way too long and might be uncomfort for some reader to navig i suggest you shorten some section mostli everyth seem to be sourc well howev the whole introduct paragraph is not and some fact like the flagbear are not as well n a n a n a i think you should add more imag to the articl some part are just full of write a pictur need to be put although the abov issu are minor i am unabl to pass you at the moment and will wait till you fix the abov to decid on a pass fail talkcontribut']"
      ]
     },
     "execution_count": 8,
     "metadata": {},
     "output_type": "execute_result"
    }
   ],
   "source": [
    "# transform the first 1024 samples of our data\n",
    "train = transformer.transform(train[:1024])\n",
    "train[:10]"
   ]
  },
  {
   "cell_type": "markdown",
   "id": "767230d8",
   "metadata": {},
   "source": [
    "## Choosing the model"
   ]
  },
  {
   "cell_type": "markdown",
   "id": "a94efbf0",
   "metadata": {},
   "source": [
    "The plan is to test the accuracy of different models on the same dataset."
   ]
  },
  {
   "cell_type": "code",
   "execution_count": 9,
   "id": "78a2d56e",
   "metadata": {},
   "outputs": [],
   "source": [
    "from sklearn.metrics import accuracy_score, plot_confusion_matrix\n",
    "\n",
    "from sklearn.pipeline import make_pipeline\n",
    "from sklearn.feature_extraction.text import CountVectorizer, TfidfVectorizer\n",
    "from sklearn.preprocessing import MaxAbsScaler"
   ]
  },
  {
   "cell_type": "markdown",
   "id": "4ca70c11",
   "metadata": {},
   "source": [
    "### The training dataset"
   ]
  },
  {
   "cell_type": "code",
   "execution_count": 10,
   "id": "3018ad64",
   "metadata": {},
   "outputs": [
    {
     "data": {
      "text/plain": [
       "(array(['redirect talk john harley bishop die',\n",
       "        'respons hi check in thi is a respons i wa write to betti befor i wa ban mr logan thi is a whole new level of rude i have made it clear to you multipl time that i want to edit that page becaus i suffer from ocd i need to use that particular page multipl time becaus i m make a big report on movi make becaus of my medic condit i decid to do someth that bother absolut nobodi and center the budget on that particular page just like the refer year etc are also center on the page you decid to jump in and undo it becaus it appear that you have noth better to do than bother somebodi for no reason on top of that i did not even violat rr so whi are you report me and on top of that mr logan i have look into your edit histori and multipl peopl have report you over the year',\n",
       "        'it ok i went ahead and close it it wa inadvert we all make mistak you are not a regular edit warrer so a block here would be innapropri',\n",
       "        ..., 'yeah pretti much but i wa go to ask him to block it',\n",
       "        'made more chang i fix some grammar and spell took away the claim that the site coin the term dcau sinc that had been complain about and made the articl more appropri for wikipedia but it probabl need more work',\n",
       "        'actual wikipedia remov warn wa a propos that fail to gain accept and ha been mark thi page is current inact and is retain for histor refer sinc the current guidelin on thi question is at wikipedia talk page guidelin user talk page an it say that you may remov warn onc you have seen and read them though archiv is prefer'],\n",
       "       dtype=object),\n",
       " array([0, 0, 0, ..., 0, 0, 0], dtype=int64))"
      ]
     },
     "execution_count": 10,
     "metadata": {},
     "output_type": "execute_result"
    }
   ],
   "source": [
    "# create a data frame with training data\n",
    "X = pd.DataFrame(train, columns=['text']).dropna()['text'].values\n",
    "# get the training target data (labels)\n",
    "y = train_df[:1024]['toxic'].dropna().values\n",
    "X, y"
   ]
  },
  {
   "cell_type": "code",
   "execution_count": 12,
   "id": "60e11d99",
   "metadata": {},
   "outputs": [
    {
     "data": {
      "text/plain": [
       "((1024,), (1024,))"
      ]
     },
     "execution_count": 12,
     "metadata": {},
     "output_type": "execute_result"
    }
   ],
   "source": [
    "X.shape, y.shape"
   ]
  },
  {
   "cell_type": "markdown",
   "id": "4d860960",
   "metadata": {},
   "source": [
    "### The testing dataset"
   ]
  },
  {
   "cell_type": "code",
   "execution_count": 13,
   "id": "88755b1d",
   "metadata": {},
   "outputs": [
    {
     "data": {
      "text/plain": [
       "(array(['Thank you for understanding. I think very highly of you and would not revert without discussion.',\n",
       "        ':Dear god this site is horrible.',\n",
       "        '\"::: Somebody will invariably try to add Religion?  Really??  You mean, the way people have invariably kept adding \"\"Religion\"\" to the Samuel Beckett infobox?  And why do you bother bringing up the long-dead completely non-existent \"\"Influences\"\" issue?  You\\'re just flailing, making up crap on the fly. \\r\\n ::: For comparison, the only explicit acknowledgement in the entire Amos Oz article that he is personally Jewish is in the categories!    \\r\\n\\r\\n \"',\n",
       "        ...,\n",
       "        '\", 26 July 2010 (UTC) \\r\\n ::Can they be pink with blue spots?  Joking aside I don\\'t think we can and it should probably stop.  Off2rio has taken this position on right wing articles for some time, generally against consensus.  Ditto on some of the British Isles disputes.  My original point (which I have probably repeated for too long) is that we have to fall back to references.  General POV accusations without evidence of editing other than in accordance with policy is I think disruptive, but its part of life here.   I\\'ll go and cook a meal, pour a shot of Penderyn and watch Star Treck on Sky.     18:16\"',\n",
       "        \"OH DEAR - HOW TERRIBLE ! GIVEN THAT IT TAKES 10 SECONDS TO GET A NEW USERNAME AND IP ADDRESS WHAT FUCKING DIFFERENCE DOES IT MAKE ? DON'T YOU HAVE ANYTHING BETTER TO DO WITH YOUR LIFE, OR CAN'T YOU HANDLE THE REAL WORLD ?\",\n",
       "        '\" \\r\\n :The page was basically copied from an existing WP article... but upon closer review I see nothing in the copied version that would warrant a copy vio tag.  I don\\'t see it.-\\'\\'\\' \\' \"'],\n",
       "       dtype=object),\n",
       " array([0, 0, 0, ..., 0, 0, 0], dtype=int64))"
      ]
     },
     "execution_count": 13,
     "metadata": {},
     "output_type": "execute_result"
    }
   ],
   "source": [
    "# getting the testing data\n",
    "X_test = test_df[:1024]['comment_text'].values\n",
    "y_test = test_df[:1024]['toxic'].values\n",
    "X_test, y_test"
   ]
  },
  {
   "cell_type": "markdown",
   "id": "5a6b0630",
   "metadata": {},
   "source": [
    "### Logistic Regression"
   ]
  },
  {
   "cell_type": "code",
   "execution_count": 14,
   "id": "05a62dfd",
   "metadata": {},
   "outputs": [
    {
     "data": {
      "text/plain": [
       "<sklearn.metrics._plot.confusion_matrix.ConfusionMatrixDisplay at 0x3810898>"
      ]
     },
     "execution_count": 14,
     "metadata": {},
     "output_type": "execute_result"
    },
    {
     "data": {
      "image/png": "[encoded data removed]",
      "text/plain": [
       "<Figure size 432x288 with 2 Axes>"
      ]
     },
     "metadata": {
      "needs_background": "light"
     },
     "output_type": "display_data"
    }
   ],
   "source": [
    "from sklearn.linear_model import LogisticRegression\n",
    "\n",
    "# creating a pipeline for Logistic Regression\n",
    "lr_pipe = make_pipeline(\n",
    "    TfidfVectorizer(),\n",
    "    MaxAbsScaler(),\n",
    "    LogisticRegression()\n",
    ")\n",
    "\n",
    "lr_pipe.fit(X, y) # fitting the model\n",
    "plot_confusion_matrix(lr_pipe, X_test, y_test)"
   ]
  },
  {
   "cell_type": "markdown",
   "id": "b7424754",
   "metadata": {},
   "source": [
    "### NB models"
   ]
  },
  {
   "cell_type": "code",
   "execution_count": 15,
   "id": "f51564ae",
   "metadata": {},
   "outputs": [
    {
     "name": "stdout",
     "output_type": "stream",
     "text": [
      "Complement Naive Bayes\n",
      "Bernoulli Naive Bayes\n",
      "Multinomial Naive Bayes\n"
     ]
    },
    {
     "data": {
      "text/plain": [
       "<sklearn.metrics._plot.confusion_matrix.ConfusionMatrixDisplay at 0x1bb47ef8>"
      ]
     },
     "execution_count": 15,
     "metadata": {},
     "output_type": "execute_result"
    },
    {
     "data": {
      "image/png": "[encoded data removed]",
      "text/plain": [
       "<Figure size 432x288 with 2 Axes>"
      ]
     },
     "metadata": {
      "needs_background": "light"
     },
     "output_type": "display_data"
    },
    {
     "data": {
      "image/png": "[encoded data removed]",
      "text/plain": [
       "<Figure size 432x288 with 2 Axes>"
      ]
     },
     "metadata": {
      "needs_background": "light"
     },
     "output_type": "display_data"
    },
    {
     "data": {
      "image/png": "[encoded data removed]",
      "text/plain": [
       "<Figure size 432x288 with 2 Axes>"
      ]
     },
     "metadata": {
      "needs_background": "light"
     },
     "output_type": "display_data"
    }
   ],
   "source": [
    "from sklearn.naive_bayes import ComplementNB, BernoulliNB, MultinomialNB\n",
    "\n",
    "cnb_pipe = make_pipeline(\n",
    "    TfidfVectorizer(),\n",
    "    MaxAbsScaler(),\n",
    "    ComplementNB()\n",
    ")\n",
    "\n",
    "bnb_pipe = make_pipeline(\n",
    "    TfidfVectorizer(),\n",
    "    MaxAbsScaler(),\n",
    "    BernoulliNB()\n",
    ")\n",
    "\n",
    "mnb_pipe = make_pipeline(\n",
    "    TfidfVectorizer(),\n",
    "    MaxAbsScaler(),\n",
    "    MultinomialNB()\n",
    ")\n",
    "\n",
    "# fitting the models\n",
    "cnb_pipe.fit(X, y)\n",
    "print('Complement Naive Bayes')\n",
    "plot_confusion_matrix(cnb_pipe, X_test, y_test)\n",
    "\n",
    "bnb_pipe.fit(X, y)\n",
    "print('Bernoulli Naive Bayes')\n",
    "plot_confusion_matrix(bnb_pipe, X_test, y_test)\n",
    "\n",
    "mnb_pipe.fit(X, y)\n",
    "print('Multinomial Naive Bayes')\n",
    "plot_confusion_matrix(mnb_pipe, X_test, y_test)"
   ]
  },
  {
   "cell_type": "markdown",
   "id": "c02c3fb8",
   "metadata": {},
   "source": [
    "### Decision Tree"
   ]
  },
  {
   "cell_type": "code",
   "execution_count": 16,
   "id": "1155d0df",
   "metadata": {},
   "outputs": [
    {
     "data": {
      "text/plain": [
       "<sklearn.metrics._plot.confusion_matrix.ConfusionMatrixDisplay at 0x1a9411d8>"
      ]
     },
     "execution_count": 16,
     "metadata": {},
     "output_type": "execute_result"
    },
    {
     "data": {
      "image/png": "[encoded data removed]",
      "text/plain": [
       "<Figure size 432x288 with 2 Axes>"
      ]
     },
     "metadata": {
      "needs_background": "light"
     },
     "output_type": "display_data"
    }
   ],
   "source": [
    "from sklearn.tree import DecisionTreeClassifier\n",
    "\n",
    "dt_pipe = make_pipeline(\n",
    "    TfidfVectorizer(),\n",
    "    MaxAbsScaler(),\n",
    "    DecisionTreeClassifier()\n",
    ")\n",
    "\n",
    "dt_pipe.fit(X, y)\n",
    "plot_confusion_matrix(dt_pipe, X_test, y_test)"
   ]
  },
  {
   "cell_type": "markdown",
   "id": "1da507b7",
   "metadata": {},
   "source": [
    "### K-nearest neighbors"
   ]
  },
  {
   "cell_type": "code",
   "execution_count": 17,
   "id": "960b6fd4",
   "metadata": {},
   "outputs": [
    {
     "data": {
      "text/plain": [
       "<sklearn.metrics._plot.confusion_matrix.ConfusionMatrixDisplay at 0x3844e38>"
      ]
     },
     "execution_count": 17,
     "metadata": {},
     "output_type": "execute_result"
    },
    {
     "data": {
      "image/png": "[encoded data removed]",
      "text/plain": [
       "<Figure size 432x288 with 2 Axes>"
      ]
     },
     "metadata": {
      "needs_background": "light"
     },
     "output_type": "display_data"
    }
   ],
   "source": [
    "from sklearn.neighbors import KNeighborsClassifier\n",
    "\n",
    "kn_pipe = make_pipeline(\n",
    "    TfidfVectorizer(),\n",
    "    MaxAbsScaler(),\n",
    "    KNeighborsClassifier()\n",
    ")\n",
    "\n",
    "kn_pipe.fit(X, y)\n",
    "plot_confusion_matrix(kn_pipe, X_test, y_test)"
   ]
  },
  {
   "cell_type": "markdown",
   "id": "fa882ae8",
   "metadata": {},
   "source": [
    "### Perceptron"
   ]
  },
  {
   "cell_type": "code",
   "execution_count": 18,
   "id": "3d845371",
   "metadata": {},
   "outputs": [
    {
     "data": {
      "text/plain": [
       "<sklearn.metrics._plot.confusion_matrix.ConfusionMatrixDisplay at 0x1bb54aa8>"
      ]
     },
     "execution_count": 18,
     "metadata": {},
     "output_type": "execute_result"
    },
    {
     "data": {
      "image/png": "[encoded data removed]",
      "text/plain": [
       "<Figure size 432x288 with 2 Axes>"
      ]
     },
     "metadata": {
      "needs_background": "light"
     },
     "output_type": "display_data"
    }
   ],
   "source": [
    "from sklearn.linear_model import Perceptron\n",
    "\n",
    "p_pipe = make_pipeline(\n",
    "    TfidfVectorizer(),\n",
    "    MaxAbsScaler(),\n",
    "    Perceptron()\n",
    ")\n",
    "\n",
    "p_pipe.fit(X, y)\n",
    "plot_confusion_matrix(p_pipe, X_test, y_test)"
   ]
  },
  {
   "cell_type": "markdown",
   "id": "4dfce314",
   "metadata": {},
   "source": [
    "### Support Vector Machine"
   ]
  },
  {
   "cell_type": "code",
   "execution_count": 19,
   "id": "bd70bc94",
   "metadata": {},
   "outputs": [
    {
     "data": {
      "text/plain": [
       "<sklearn.metrics._plot.confusion_matrix.ConfusionMatrixDisplay at 0x1b9b0988>"
      ]
     },
     "execution_count": 19,
     "metadata": {},
     "output_type": "execute_result"
    },
    {
     "data": {
      "image/png": "[encoded data removed]",
      "text/plain": [
       "<Figure size 432x288 with 2 Axes>"
      ]
     },
     "metadata": {
      "needs_background": "light"
     },
     "output_type": "display_data"
    }
   ],
   "source": [
    "from sklearn.svm import SVC\n",
    "\n",
    "svm_pipe = make_pipeline(\n",
    "    TfidfVectorizer(),\n",
    "    MaxAbsScaler(),\n",
    "    SVC()\n",
    ")\n",
    "\n",
    "svm_pipe.fit(X, y)\n",
    "plot_confusion_matrix(svm_pipe, X_test, y_test)"
   ]
  },
  {
   "cell_type": "markdown",
   "id": "82e49164",
   "metadata": {},
   "source": [
    "## Comparing accuracy scores"
   ]
  },
  {
   "cell_type": "code",
   "execution_count": 20,
   "id": "f9ca0072",
   "metadata": {},
   "outputs": [
    {
     "data": {
      "text/html": [
       "<div>\n",
       "<style scoped>\n",
       "    .dataframe tbody tr th:only-of-type {\n",
       "        vertical-align: middle;\n",
       "    }\n",
       "\n",
       "    .dataframe tbody tr th {\n",
       "        vertical-align: top;\n",
       "    }\n",
       "\n",
       "    .dataframe thead th {\n",
       "        text-align: right;\n",
       "    }\n",
       "</style>\n",
       "<table border=\"1\" class=\"dataframe\">\n",
       "  <thead>\n",
       "    <tr style=\"text-align: right;\">\n",
       "      <th></th>\n",
       "      <th>Logistic Regression</th>\n",
       "      <th>Complement NB</th>\n",
       "      <th>Bernoulli NB</th>\n",
       "      <th>Multinomail Regression</th>\n",
       "      <th>Decision Tree</th>\n",
       "      <th>K-nearest neighbors</th>\n",
       "      <th>Perceptron</th>\n",
       "      <th>SVM</th>\n",
       "    </tr>\n",
       "  </thead>\n",
       "  <tbody>\n",
       "    <tr>\n",
       "      <th>0</th>\n",
       "      <td>0.920898</td>\n",
       "      <td>0.889648</td>\n",
       "      <td>0.90918</td>\n",
       "      <td>0.915039</td>\n",
       "      <td>0.895508</td>\n",
       "      <td>0.907227</td>\n",
       "      <td>0.881836</td>\n",
       "      <td>0.916992</td>\n",
       "    </tr>\n",
       "  </tbody>\n",
       "</table>\n",
       "</div>"
      ],
      "text/plain": [
       "   Logistic Regression  Complement NB  Bernoulli NB  Multinomail Regression  \\\n",
       "0             0.920898       0.889648       0.90918                0.915039   \n",
       "\n",
       "   Decision Tree  K-nearest neighbors  Perceptron       SVM  \n",
       "0       0.895508             0.907227    0.881836  0.916992  "
      ]
     },
     "execution_count": 20,
     "metadata": {},
     "output_type": "execute_result"
    }
   ],
   "source": [
    "# getting the accuracy scores for every model\n",
    "scores = {\n",
    "    'Logistic Regression': [accuracy_score(y_test, lr_pipe.predict(X_test))],\n",
    "    'Complement NB': [accuracy_score(y_test, cnb_pipe.predict(X_test))],\n",
    "    'Bernoulli NB': [accuracy_score(y_test, bnb_pipe.predict(X_test))],\n",
    "    'Multinomail Regression': [accuracy_score(y_test, mnb_pipe.predict(X_test))],\n",
    "    'Decision Tree': [accuracy_score(y_test, dt_pipe.predict(X_test))],\n",
    "    'K-nearest neighbors': [accuracy_score(y_test, kn_pipe.predict(X_test))],\n",
    "    'Perceptron': [accuracy_score(y_test, p_pipe.predict(X_test))],\n",
    "    'SVM': [accuracy_score(y_test, svm_pipe.predict(X_test))]\n",
    "}\n",
    "\n",
    "# creating a DataFrame from the scores dictionary\n",
    "scores_df = pd.DataFrame.from_dict(scores)\n",
    "scores_df"
   ]
  },
  {
   "cell_type": "code",
   "execution_count": 21,
   "id": "2bee23d6",
   "metadata": {},
   "outputs": [
    {
     "data": {
      "text/plain": [
       "'Logistic Regression : 0.9208984375'"
      ]
     },
     "execution_count": 21,
     "metadata": {},
     "output_type": "execute_result"
    }
   ],
   "source": [
    "# finding the best accuracy\n",
    "model_name = scores_df.idxmax(axis=1)[0]\n",
    "f'{model_name} : {scores_df[model_name][0]}'"
   ]
  },
  {
   "cell_type": "code",
   "execution_count": 22,
   "id": "bf7f74cf",
   "metadata": {},
   "outputs": [
    {
     "name": "stdout",
     "output_type": "stream",
     "text": [
      "              precision    recall  f1-score   support\n",
      "\n",
      "           0       0.93      0.99      0.96       932\n",
      "           1       0.70      0.21      0.32        92\n",
      "\n",
      "    accuracy                           0.92      1024\n",
      "   macro avg       0.82      0.60      0.64      1024\n",
      "weighted avg       0.91      0.92      0.90      1024\n",
      "\n"
     ]
    }
   ],
   "source": [
    "from sklearn.metrics import classification_report\n",
    "\n",
    "print(classification_report(y_test, lr_pipe.predict(X_test))) "
   ]
  },
  {
   "cell_type": "code",
   "execution_count": 23,
   "id": "699b36b5",
   "metadata": {},
   "outputs": [
    {
     "name": "stdout",
     "output_type": "stream",
     "text": [
      "Mean Absolute Error: 0.0791015625\n",
      "Mean Squared Error: 0.0791015625\n",
      "Root Mean Squared Error: 0.28125\n"
     ]
    }
   ],
   "source": [
    "from sklearn import metrics\n",
    "import numpy as np\n",
    "\n",
    "print('Mean Absolute Error:', metrics.mean_absolute_error(y_test, lr_pipe.predict(X_test)))\n",
    "print('Mean Squared Error:', metrics.mean_squared_error(y_test, lr_pipe.predict(X_test)))\n",
    "print('Root Mean Squared Error:', np.sqrt(metrics.mean_squared_error(y_test, lr_pipe.predict(X_test))))"
   ]
  }
 ],
 "metadata": {
  "kernelspec": {
   "display_name": "Python 3.8.7 32-bit",
   "language": "python",
   "name": "python38732bit4cf8281a1ba34a49bdcb0c9668d62e6c"
  },
  "language_info": {
   "codemirror_mode": {
    "name": "ipython",
    "version": 3
   },
   "file_extension": ".py",
   "mimetype": "text/x-python",
   "name": "python",
   "nbconvert_exporter": "python",
   "pygments_lexer": "ipython3",
   "version": "3.8.7"
  }
 },
 "nbformat": 4,
 "nbformat_minor": 5
}
