{
 "cells": [
  {
   "cell_type": "code",
   "execution_count": 4,
   "id": "b8bf27b0",
   "metadata": {},
   "outputs": [],
   "source": [
    "import pandas as pd\n",
    "\n",
    "train_df = pd.read_csv('./data/toxic_train.csv')\n",
    "test_df = pd.read_csv('./data/toxic_test.csv')"
   ]
  },
  {
   "cell_type": "code",
   "execution_count": 5,
   "id": "8e2283e8",
   "metadata": {},
   "outputs": [
    {
     "data": {
      "text/html": [
       "<div>\n",
       "<style scoped>\n",
       "    .dataframe tbody tr th:only-of-type {\n",
       "        vertical-align: middle;\n",
       "    }\n",
       "\n",
       "    .dataframe tbody tr th {\n",
       "        vertical-align: top;\n",
       "    }\n",
       "\n",
       "    .dataframe thead th {\n",
       "        text-align: right;\n",
       "    }\n",
       "</style>\n",
       "<table border=\"1\" class=\"dataframe\">\n",
       "  <thead>\n",
       "    <tr style=\"text-align: right;\">\n",
       "      <th></th>\n",
       "      <th>comment_text</th>\n",
       "      <th>toxic</th>\n",
       "    </tr>\n",
       "  </thead>\n",
       "  <tbody>\n",
       "    <tr>\n",
       "      <th>0</th>\n",
       "      <td>Explanation\\r\\nWhy the edits made under my use...</td>\n",
       "      <td>0</td>\n",
       "    </tr>\n",
       "    <tr>\n",
       "      <th>1</th>\n",
       "      <td>D'aww! He matches this background colour I'm s...</td>\n",
       "      <td>0</td>\n",
       "    </tr>\n",
       "    <tr>\n",
       "      <th>2</th>\n",
       "      <td>Hey man, I'm really not trying to edit war. It...</td>\n",
       "      <td>0</td>\n",
       "    </tr>\n",
       "    <tr>\n",
       "      <th>3</th>\n",
       "      <td>\"\\r\\nMore\\r\\nI can't make any real suggestions...</td>\n",
       "      <td>0</td>\n",
       "    </tr>\n",
       "    <tr>\n",
       "      <th>4</th>\n",
       "      <td>You, sir, are my hero. Any chance you remember...</td>\n",
       "      <td>0</td>\n",
       "    </tr>\n",
       "    <tr>\n",
       "      <th>...</th>\n",
       "      <td>...</td>\n",
       "      <td>...</td>\n",
       "    </tr>\n",
       "    <tr>\n",
       "      <th>159566</th>\n",
       "      <td>\":::::And for the second time of asking, when ...</td>\n",
       "      <td>0</td>\n",
       "    </tr>\n",
       "    <tr>\n",
       "      <th>159567</th>\n",
       "      <td>You should be ashamed of yourself \\r\\n\\r\\nThat...</td>\n",
       "      <td>0</td>\n",
       "    </tr>\n",
       "    <tr>\n",
       "      <th>159568</th>\n",
       "      <td>Spitzer \\r\\n\\r\\nUmm, theres no actual article ...</td>\n",
       "      <td>0</td>\n",
       "    </tr>\n",
       "    <tr>\n",
       "      <th>159569</th>\n",
       "      <td>And it looks like it was actually you who put ...</td>\n",
       "      <td>0</td>\n",
       "    </tr>\n",
       "    <tr>\n",
       "      <th>159570</th>\n",
       "      <td>\"\\r\\nAnd ... I really don't think you understa...</td>\n",
       "      <td>0</td>\n",
       "    </tr>\n",
       "  </tbody>\n",
       "</table>\n",
       "<p>159571 rows × 2 columns</p>\n",
       "</div>"
      ],
      "text/plain": [
       "                                             comment_text  toxic\n",
       "0       Explanation\\r\\nWhy the edits made under my use...      0\n",
       "1       D'aww! He matches this background colour I'm s...      0\n",
       "2       Hey man, I'm really not trying to edit war. It...      0\n",
       "3       \"\\r\\nMore\\r\\nI can't make any real suggestions...      0\n",
       "4       You, sir, are my hero. Any chance you remember...      0\n",
       "...                                                   ...    ...\n",
       "159566  \":::::And for the second time of asking, when ...      0\n",
       "159567  You should be ashamed of yourself \\r\\n\\r\\nThat...      0\n",
       "159568  Spitzer \\r\\n\\r\\nUmm, theres no actual article ...      0\n",
       "159569  And it looks like it was actually you who put ...      0\n",
       "159570  \"\\r\\nAnd ... I really don't think you understa...      0\n",
       "\n",
       "[159571 rows x 2 columns]"
      ]
     },
     "execution_count": 5,
     "metadata": {},
     "output_type": "execute_result"
    }
   ],
   "source": [
    "train_df = train_df.drop(columns=['Unnamed: 0'])\n",
    "train_df"
   ]
  },
  {
   "cell_type": "code",
   "execution_count": 6,
   "id": "ab7b47c1",
   "metadata": {},
   "outputs": [
    {
     "data": {
      "text/html": [
       "<div>\n",
       "<style scoped>\n",
       "    .dataframe tbody tr th:only-of-type {\n",
       "        vertical-align: middle;\n",
       "    }\n",
       "\n",
       "    .dataframe tbody tr th {\n",
       "        vertical-align: top;\n",
       "    }\n",
       "\n",
       "    .dataframe thead th {\n",
       "        text-align: right;\n",
       "    }\n",
       "</style>\n",
       "<table border=\"1\" class=\"dataframe\">\n",
       "  <thead>\n",
       "    <tr style=\"text-align: right;\">\n",
       "      <th></th>\n",
       "      <th>comment_text</th>\n",
       "      <th>toxic</th>\n",
       "    </tr>\n",
       "  </thead>\n",
       "  <tbody>\n",
       "    <tr>\n",
       "      <th>0</th>\n",
       "      <td>Thank you for understanding. I think very high...</td>\n",
       "      <td>0</td>\n",
       "    </tr>\n",
       "    <tr>\n",
       "      <th>1</th>\n",
       "      <td>:Dear god this site is horrible.</td>\n",
       "      <td>0</td>\n",
       "    </tr>\n",
       "    <tr>\n",
       "      <th>2</th>\n",
       "      <td>\"::: Somebody will invariably try to add Relig...</td>\n",
       "      <td>0</td>\n",
       "    </tr>\n",
       "    <tr>\n",
       "      <th>3</th>\n",
       "      <td>\" \\r\\n\\r\\n It says it right there that it IS a...</td>\n",
       "      <td>0</td>\n",
       "    </tr>\n",
       "    <tr>\n",
       "      <th>4</th>\n",
       "      <td>\" \\r\\n\\r\\n == Before adding a new product to t...</td>\n",
       "      <td>0</td>\n",
       "    </tr>\n",
       "    <tr>\n",
       "      <th>...</th>\n",
       "      <td>...</td>\n",
       "      <td>...</td>\n",
       "    </tr>\n",
       "    <tr>\n",
       "      <th>63973</th>\n",
       "      <td>:Jerome, I see you never got around to this…! ...</td>\n",
       "      <td>0</td>\n",
       "    </tr>\n",
       "    <tr>\n",
       "      <th>63974</th>\n",
       "      <td>==Lucky bastard== \\r\\n http://wikimediafoundat...</td>\n",
       "      <td>0</td>\n",
       "    </tr>\n",
       "    <tr>\n",
       "      <th>63975</th>\n",
       "      <td>==shame on you all!!!== \\r\\n\\r\\n You want to s...</td>\n",
       "      <td>0</td>\n",
       "    </tr>\n",
       "    <tr>\n",
       "      <th>63976</th>\n",
       "      <td>MEL GIBSON IS A NAZI BITCH WHO MAKES SHITTY MO...</td>\n",
       "      <td>1</td>\n",
       "    </tr>\n",
       "    <tr>\n",
       "      <th>63977</th>\n",
       "      <td>\" \\r\\n\\r\\n == Unicorn lair discovery == \\r\\n\\r...</td>\n",
       "      <td>0</td>\n",
       "    </tr>\n",
       "  </tbody>\n",
       "</table>\n",
       "<p>63978 rows × 2 columns</p>\n",
       "</div>"
      ],
      "text/plain": [
       "                                            comment_text  toxic\n",
       "0      Thank you for understanding. I think very high...      0\n",
       "1                       :Dear god this site is horrible.      0\n",
       "2      \"::: Somebody will invariably try to add Relig...      0\n",
       "3      \" \\r\\n\\r\\n It says it right there that it IS a...      0\n",
       "4      \" \\r\\n\\r\\n == Before adding a new product to t...      0\n",
       "...                                                  ...    ...\n",
       "63973  :Jerome, I see you never got around to this…! ...      0\n",
       "63974  ==Lucky bastard== \\r\\n http://wikimediafoundat...      0\n",
       "63975  ==shame on you all!!!== \\r\\n\\r\\n You want to s...      0\n",
       "63976  MEL GIBSON IS A NAZI BITCH WHO MAKES SHITTY MO...      1\n",
       "63977  \" \\r\\n\\r\\n == Unicorn lair discovery == \\r\\n\\r...      0\n",
       "\n",
       "[63978 rows x 2 columns]"
      ]
     },
     "execution_count": 6,
     "metadata": {},
     "output_type": "execute_result"
    }
   ],
   "source": [
    "test_df = test_df.drop(columns=['Unnamed: 0'])\n",
    "test_df"
   ]
  },
  {
   "cell_type": "code",
   "execution_count": 29,
   "id": "353596d6",
   "metadata": {},
   "outputs": [
    {
     "name": "stdout",
     "output_type": "stream",
     "text": [
      "0    57888\n",
      "1     6090\n",
      "Name: toxic, dtype: int64\n",
      "0    144277\n",
      "1     15294\n",
      "Name: toxic, dtype: int64\n"
     ]
    }
   ],
   "source": [
    "print(test_df['toxic'].value_counts())\n",
    "print(train_df['toxic'].value_counts())"
   ]
  },
  {
   "cell_type": "markdown",
   "id": "c72b7d1f",
   "metadata": {},
   "source": [
    "## Preprocessing"
   ]
  },
  {
   "cell_type": "code",
   "execution_count": 7,
   "id": "2554a55c",
   "metadata": {},
   "outputs": [
    {
     "data": {
      "text/plain": [
       "['\"\\r\\n\\r\\n Certainly.  On http://www.david-strathairn.com/media/film3.html there are several WMV files taken from HBO specials.  Those belong to and are copyright from HBO, and I see no \"\"used by permission\"\" there.  I see a note that says \"\"No copyright infringements intended.\"\", but that doesn\\'t say that it\\'s NOT a copyright infringement - just becaus ethey say they didn\\'t mean to doesn\\'t mean it didn\\'t happen. On the same page there are also copies of featurettes from commercially available DVDs.  These, too, will be copyrighted. One http://www.david-strathairn.com/media/tv3.html we have whole scenes taken from the HBO show \"\"The Sopranos\"\" - those are copyright HBO, too and again, I don\\'t see a \"\"used with permission\"\" anywhere. On http://www.david-strathairn.com/media/radio.html there are all sorts of excerpts from radio shows, which are owned by the respective stations.  I see no permission given there either.  There is not doubt that all of these clips are copyrighted by the original owners.  there is no evidence that they are posted with the owner\\'s permission.  Therefore this it is a reasonable conclusion that this is a copyright violation, barring evidence to the contrary.    | Talk \"',\n",
       " 'Your edits to Oregon Trail \\r\\n\\r\\nWelcome, and thank you for experimenting with  Wikipedia! Your test worked, and thank you for reverting or removing it yourself. The best way to do tests in the future would be to use the sandbox. You can look at these pages as well: how to edit a page, the tutorial, and how to write a great article. All of these pages are good places to start. Again, welcome, and I hope that you will like Wikipedia.',\n",
       " \"That is an understandable interpretation, however I'm not sure that the article fulfills the obligations of notability:\\r\\nThere is only one source.  The standard is reliable, independent sources:  That is, two or more.\\r\\nI haven't seen Ax-men, but was the episode about lumberjacks, and not about Gustafson Logging itself?\\r\\n—EncMstr (talk)\",\n",
       " 'I would agree with that! Improving the current articles is the first thing to do. Creating redirects for synonyms is also a good idea to help people searching for a specific topic to get to the right place.',\n",
       " '\"\\r\\n\\r\\n Commons \\r\\n\\r\\nYou\\'ve got a message there, BTW. Happy editing! Agüeybaná \"',\n",
       " 'Suck my sockpuppet fag!',\n",
       " 'So how about the ones I suggested in the Talk Page? I really think that images like the one of Shego using her powers and at least one of her figthing Kim should be there.',\n",
       " '\"\\r\\n\\r\\nIt certainly indicates grounds for keeping a very close watch over the entry once it is back, and quite possibly removing most of all of the \"\"text on Polk Audio\\'s Wikipedia entry that has been reproduced from www.PolkAudio.com\"\". We do indeed need to get in touch with Mr. Siegel, but kicking him out  is not the way to start.\\r\\n\\r\\nFor the record, Mr. Siegel,  Polk Audio does not own the entry, the license under GFDL gives anyone in the world including any editor here a free hand to use & edit the material as they see fit,  material that is thought similar to advertising copy rather than objective description is ruthlessly deleted from WP,  & nobody is likely to feel any need to get in touch with you regarding \"\"any questions, comments, concerns or problems.\"\"    According to our COI policies, \"\"If you feel the need to add content to Wikipedia articles despite a real or perceived conflict of interest, we strongly encourage you to submit the content for review on the article\\'s talk page,\"\" not the article.    \\'\\'\\'\\'\\'\\' \"',\n",
       " '\"\\r\\n\\r\\nWow\\r\\nThat means a lot, coming from you. Thanks so much. _dzasta \"',\n",
       " '\"\\r\\n\\r\\n ANI Notice \\r\\n\\r\\nFYI, I didn\\'t mention you by name, but I listed a few diffs involving you at ANI here. Just wanted to let you know. Thanks. \\xa0 — · Δ♥ \"']"
      ]
     },
     "execution_count": 7,
     "metadata": {},
     "output_type": "execute_result"
    }
   ],
   "source": [
    "# selecting text data\n",
    "\n",
    "train_df = train_df.sample(frac=1) #shuffling the training dataset\n",
    "train = train_df['comment_text']\n",
    "train = train.to_list()\n",
    "train[:10]"
   ]
  },
  {
   "cell_type": "markdown",
   "id": "5d9ae3cb",
   "metadata": {},
   "source": [
    "### Creating a transformer for preprocessing text data"
   ]
  },
  {
   "cell_type": "code",
   "execution_count": 8,
   "id": "8587d72b",
   "metadata": {},
   "outputs": [],
   "source": [
    "from sklearn.base import BaseEstimator, TransformerMixin\n",
    "\n",
    "import nltk\n",
    "from nltk.probability import FreqDist\n",
    "from nltk.tokenize import word_tokenize, sent_tokenize\n",
    "\n",
    "import re\n",
    "\n",
    "# transformer class\n",
    "class TextTransformer(BaseEstimator, TransformerMixin):\n",
    "    def __init__(self, stopwords, stemmer):\n",
    "        super().__init__()\n",
    "        self.stopwords = stopwords\n",
    "        self.stemmer = stemmer\n",
    "        self.hapaxes = []\n",
    "        self.named_entities = []\n",
    "    \n",
    "    # by default a transformer's fit method just returns self\n",
    "    def fit(self, X, y=None):\n",
    "        return self\n",
    "    \n",
    "    def transform(self, X, y=None):\n",
    "        for i, sample in enumerate(X):\n",
    "            X[i] = self.__normalize(sample)\n",
    "            X[i] = self.__eliminate_stopwords(X[i])\n",
    "            X[i] = self.__get_hapaxes(X[i])\n",
    "            X[i] = self.__stem(X[i])\n",
    "            self.__named_entity_extraction(X[i])\n",
    "        \n",
    "        return X\n",
    "\n",
    "    def __normalize(self, text):\n",
    "        return ' '.join(re.findall('[a-zA-Z]+', text.lower().replace(r'\\r', ' ').replace(r'\\n', ' ')))\n",
    "    \n",
    "    def __eliminate_stopwords(self, text):\n",
    "        if self.stopwords is not None:\n",
    "            return ''.join([word for word in text if word not in self.stopwords])\n",
    "    \n",
    "    def __get_hapaxes(self, text, eliminate=True):\n",
    "        fd = FreqDist(word_tokenize(text))\n",
    "        self.hapaxes.append(fd.hapaxes())\n",
    "                       \n",
    "        if eliminate:\n",
    "            text = ''.join([word for word in text if word not in self.hapaxes])\n",
    "        \n",
    "        return text\n",
    "    \n",
    "    def __stem(self, text):\n",
    "        return ' '.join([self.stemmer.stem(word) for word in word_tokenize(text)])\n",
    "    \n",
    "    def __named_entity_extraction(self, text):\n",
    "        for sent in sent_tokenize(text):\n",
    "            for chunk in nltk.ne_chunk(nltk.pos_tag(word_tokenize(sent))):\n",
    "                if hasattr(chunk, 'label'):\n",
    "                    self.named_entities.append(chunk)"
   ]
  },
  {
   "cell_type": "markdown",
   "id": "d5865d8d",
   "metadata": {},
   "source": [
    "### Using the transformer to preprocess the training text"
   ]
  },
  {
   "cell_type": "code",
   "execution_count": 9,
   "id": "9d085c16",
   "metadata": {},
   "outputs": [],
   "source": [
    "from nltk.stem import PorterStemmer\n",
    "\n",
    "transformer = TextTransformer(stopwords=['and', 'for', 'in', 'about', 'for', 'as', 'the'], stemmer=PorterStemmer())"
   ]
  },
  {
   "cell_type": "code",
   "execution_count": 10,
   "id": "dbf1a3b8",
   "metadata": {},
   "outputs": [
    {
     "data": {
      "text/plain": [
       "['certainli on http www david strathairn com media film html there are sever wmv file taken from hbo special those belong to and are copyright from hbo and i see no use by permiss there i see a note that say no copyright infring intend but that doesn t say that it s not a copyright infring just becau ethey say they didn t mean to doesn t mean it didn t happen on the same page there are also copi of featurett from commerci avail dvd these too will be copyright one http www david strathairn com media tv html we have whole scene taken from the hbo show the soprano those are copyright hbo too and again i don t see a use with permiss anywher on http www david strathairn com media radio html there are all sort of excerpt from radio show which are own by the respect station i see no permiss given there either there is not doubt that all of these clip are copyright by the origin owner there is no evid that they are post with the owner s permiss therefor thi it is a reason conclus that thi is a copyright violat bar evid to the contrari talk',\n",
       " 'your edit to oregon trail welcom and thank you for experi with wikipedia your test work and thank you for revert or remov it yourself the best way to do test in the futur would be to use the sandbox you can look at these page as well how to edit a page the tutori and how to write a great articl all of these page are good place to start again welcom and i hope that you will like wikipedia',\n",
       " 'that is an understand interpret howev i m not sure that the articl fulfil the oblig of notabl there is onli one sourc the standard is reliabl independ sourc that is two or more i haven t seen ax men but wa the episod about lumberjack and not about gustafson log itself encmstr talk',\n",
       " 'i would agre with that improv the current articl is the first thing to do creat redirect for synonym is also a good idea to help peopl search for a specif topic to get to the right place',\n",
       " 'common you ve got a messag there btw happi edit ag eyban',\n",
       " 'suck my sockpuppet fag',\n",
       " 'so how about the one i suggest in the talk page i realli think that imag like the one of shego use her power and at least one of her figth kim should be there',\n",
       " 'it certainli indic ground for keep a veri close watch over the entri onc it is back and quit possibl remov most of all of the text on polk audio s wikipedia entri that ha been reproduc from www polkaudio com we do inde need to get in touch with mr siegel but kick him out is not the way to start for the record mr siegel polk audio doe not own the entri the licens under gfdl give anyon in the world includ ani editor here a free hand to use edit the materi as they see fit materi that is thought similar to advertis copi rather than object descript is ruthlessli delet from wp nobodi is like to feel ani need to get in touch with you regard ani question comment concern or problem accord to our coi polici if you feel the need to add content to wikipedia articl despit a real or perceiv conflict of interest we strongli encourag you to submit the content for review on the articl s talk page not the articl',\n",
       " 'wow that mean a lot come from you thank so much dzasta',\n",
       " 'ani notic fyi i didn t mention you by name but i list a few diff involv you at ani here just want to let you know thank']"
      ]
     },
     "execution_count": 10,
     "metadata": {},
     "output_type": "execute_result"
    }
   ],
   "source": [
    "train = transformer.transform(train[:1024])\n",
    "train[:10]"
   ]
  },
  {
   "cell_type": "markdown",
   "id": "767230d8",
   "metadata": {},
   "source": [
    "## Choosing the model"
   ]
  },
  {
   "cell_type": "markdown",
   "id": "a94efbf0",
   "metadata": {},
   "source": [
    "The plan is to test the accuracy of different models on the same dataset."
   ]
  },
  {
   "cell_type": "code",
   "execution_count": 11,
   "id": "78a2d56e",
   "metadata": {},
   "outputs": [],
   "source": [
    "from sklearn.metrics import accuracy_score, plot_confusion_matrix\n",
    "\n",
    "from sklearn.pipeline import make_pipeline\n",
    "from sklearn.feature_extraction.text import CountVectorizer, TfidfVectorizer\n",
    "from sklearn.preprocessing import MaxAbsScaler"
   ]
  },
  {
   "cell_type": "markdown",
   "id": "4ca70c11",
   "metadata": {},
   "source": [
    "### The training dataset"
   ]
  },
  {
   "cell_type": "code",
   "execution_count": 12,
   "id": "3018ad64",
   "metadata": {},
   "outputs": [
    {
     "data": {
      "text/plain": [
       "(array(['certainli on http www david strathairn com media film html there are sever wmv file taken from hbo special those belong to and are copyright from hbo and i see no use by permiss there i see a note that say no copyright infring intend but that doesn t say that it s not a copyright infring just becau ethey say they didn t mean to doesn t mean it didn t happen on the same page there are also copi of featurett from commerci avail dvd these too will be copyright one http www david strathairn com media tv html we have whole scene taken from the hbo show the soprano those are copyright hbo too and again i don t see a use with permiss anywher on http www david strathairn com media radio html there are all sort of excerpt from radio show which are own by the respect station i see no permiss given there either there is not doubt that all of these clip are copyright by the origin owner there is no evid that they are post with the owner s permiss therefor thi it is a reason conclus that thi is a copyright violat bar evid to the contrari talk',\n",
       "        'your edit to oregon trail welcom and thank you for experi with wikipedia your test work and thank you for revert or remov it yourself the best way to do test in the futur would be to use the sandbox you can look at these page as well how to edit a page the tutori and how to write a great articl all of these page are good place to start again welcom and i hope that you will like wikipedia',\n",
       "        'that is an understand interpret howev i m not sure that the articl fulfil the oblig of notabl there is onli one sourc the standard is reliabl independ sourc that is two or more i haven t seen ax men but wa the episod about lumberjack and not about gustafson log itself encmstr talk',\n",
       "        ...,\n",
       "        'goce drive newslett sent on behalf of the guild of copi editor use awb on',\n",
       "        'you can not say what my intent wa you can assum bad faith and that i wa tri to say someth i wa not as you did it wasn t even a heat comment when i made it you took it the wrong way so in the futur i won t use cancer if peopl take it so offens i do understand whi it is a problem to a certain extent but usag in thi case wa not meant to be an overt person attack but a cheeki respons to georg also don t forget to block nableezi for call other cunt',\n",
       "        'again the uncit attack against jew black were remov love to make david duke sound like he is jesu christ i have post the last accept version of hi articl david ernest duke born juli is a former louisiana state repres and former leader of the ku klux klan he ha made a number of unsuccess polit bid for higher offic includ run for the louisiana state hous louisiana state senat unit state senat unit state hous governor of louisiana and twice for presid of the unit state in he pled guilti to tax evas and fraud charg he is a long time new orlean resid and the proud father of erika and kristin duke youth earli adulthood the klan and first campaign david duke wa born in tulsa oklahoma to david h maxin duke as a shell oil engin hi father frequent move hi wife david and hi sister dotti to numeri locat around the world the duke s spent a short period of live in the netherland befor they settl in louisiana young david becam interest in the white nationalist movement at an earli age and join the klan in duke went on to studi at louisiana state univers in baton roug and in he form a caucasian campu group known as the white youth allianc that same year he made himself known even more by demonstr in swastika regalia to protest william kunstler s appear at tulan univers la he wa involv in the campu rotc until he wa kick out due to hi radic belief in he went to lao to teach english to laotian militari offic and serv on cargo flight for air america over the cours of ten week duke return to lsu graduat in he becam notori on campu for wear a nazi uniform ku klux klan apparel and swastika paraphernalia while picket and hold parti on the anniversari of the birth of adolf hitler the year of hi graduat he wa elect grand wizard of the knight of the ku klux klan he attract attent for tri to modern the klan and turn it into a modern nationalist polit forc for exampl he chang the titl of grand wizard to nation director and sport a conserv suit as oppos to the tradit white robe in duke sought a seat in the louisiana state senat as a democrat in he left the klan and two year later form the nation associ for the advanc of white peopl naawp in he conduct a direct mail appeal use the ident and mail list of the forsyth counti defens leagu in georgia without permiss which leagu offici describ as a fund rais scam detail in the rise of david duke by tyler bridg in he ran in the democrat parti primari for presid of the unit state after a dismal show in the democrat primari he appear on mani state ballot as the nomine of the populist parti and receiv approxim vote in the gener elect use the pseudonym dorothi vanderbilt dr duke publish a self help book for women titl finder keeper in the public give advic to women regard vagin exercis fellatio anal sex and anilingu the manual is no longer in print and hard to find howev the picayun a local mississippi newspap manag to find a copi and trace the trail of it s proce to the origin author via the publish in the s he wa heavili involv in gambl and stock market invest which were cover by the time picayun as well as by other columbia journal review the picayun catch up with david duke attitud of mississippi colleg student toward david duke befor and after see the film who is david duke the nation republican the race card in the latter year of the s duke sought to revamp hi appear by undergo plastic surgeri and also shave off hi moustach follow hi elect to the lo'],\n",
       "       dtype=object),\n",
       " array([0, 0, 0, ..., 0, 0, 0], dtype=int64))"
      ]
     },
     "execution_count": 12,
     "metadata": {},
     "output_type": "execute_result"
    }
   ],
   "source": [
    "X = pd.DataFrame(train, columns=['text']).dropna()['text'].values\n",
    "y = train_df[:1024]['toxic'].dropna().values\n",
    "X, y"
   ]
  },
  {
   "cell_type": "code",
   "execution_count": 13,
   "id": "60e11d99",
   "metadata": {},
   "outputs": [
    {
     "data": {
      "text/plain": [
       "((1024,), (1024,))"
      ]
     },
     "execution_count": 13,
     "metadata": {},
     "output_type": "execute_result"
    }
   ],
   "source": [
    "X.shape, y.shape"
   ]
  },
  {
   "cell_type": "markdown",
   "id": "4d860960",
   "metadata": {},
   "source": [
    "### The testing dataset"
   ]
  },
  {
   "cell_type": "code",
   "execution_count": 14,
   "id": "88755b1d",
   "metadata": {},
   "outputs": [
    {
     "data": {
      "text/plain": [
       "(array(['Thank you for understanding. I think very highly of you and would not revert without discussion.',\n",
       "        ':Dear god this site is horrible.',\n",
       "        '\"::: Somebody will invariably try to add Religion?  Really??  You mean, the way people have invariably kept adding \"\"Religion\"\" to the Samuel Beckett infobox?  And why do you bother bringing up the long-dead completely non-existent \"\"Influences\"\" issue?  You\\'re just flailing, making up crap on the fly. \\r\\n ::: For comparison, the only explicit acknowledgement in the entire Amos Oz article that he is personally Jewish is in the categories!    \\r\\n\\r\\n \"',\n",
       "        ...,\n",
       "        '\", 26 July 2010 (UTC) \\r\\n ::Can they be pink with blue spots?  Joking aside I don\\'t think we can and it should probably stop.  Off2rio has taken this position on right wing articles for some time, generally against consensus.  Ditto on some of the British Isles disputes.  My original point (which I have probably repeated for too long) is that we have to fall back to references.  General POV accusations without evidence of editing other than in accordance with policy is I think disruptive, but its part of life here.   I\\'ll go and cook a meal, pour a shot of Penderyn and watch Star Treck on Sky.     18:16\"',\n",
       "        \"OH DEAR - HOW TERRIBLE ! GIVEN THAT IT TAKES 10 SECONDS TO GET A NEW USERNAME AND IP ADDRESS WHAT FUCKING DIFFERENCE DOES IT MAKE ? DON'T YOU HAVE ANYTHING BETTER TO DO WITH YOUR LIFE, OR CAN'T YOU HANDLE THE REAL WORLD ?\",\n",
       "        '\" \\r\\n :The page was basically copied from an existing WP article... but upon closer review I see nothing in the copied version that would warrant a copy vio tag.  I don\\'t see it.-\\'\\'\\' \\' \"'],\n",
       "       dtype=object),\n",
       " array([0, 0, 0, ..., 0, 0, 0], dtype=int64))"
      ]
     },
     "execution_count": 14,
     "metadata": {},
     "output_type": "execute_result"
    }
   ],
   "source": [
    "X_test = test_df[:1024]['comment_text'].values\n",
    "y_test = test_df[:1024]['toxic'].values\n",
    "X_test, y_test"
   ]
  },
  {
   "cell_type": "markdown",
   "id": "5a6b0630",
   "metadata": {},
   "source": [
    "### Logistic Regression"
   ]
  },
  {
   "cell_type": "code",
   "execution_count": 15,
   "id": "05a62dfd",
   "metadata": {},
   "outputs": [
    {
     "data": {
      "text/plain": [
       "<sklearn.metrics._plot.confusion_matrix.ConfusionMatrixDisplay at 0x194cb538>"
      ]
     },
     "execution_count": 15,
     "metadata": {},
     "output_type": "execute_result"
    },
    {
     "data": {
      "image/png": "[encoded data removed]",
      "text/plain": [
       "<Figure size 432x288 with 2 Axes>"
      ]
     },
     "metadata": {
      "needs_background": "light"
     },
     "output_type": "display_data"
    }
   ],
   "source": [
    "from sklearn.linear_model import LogisticRegression\n",
    "\n",
    "lr_pipe = make_pipeline(\n",
    "    TfidfVectorizer(),\n",
    "    MaxAbsScaler(),\n",
    "    LogisticRegression()\n",
    ")\n",
    "\n",
    "lr_pipe.fit(X, y)\n",
    "plot_confusion_matrix(lr_pipe, X_test, y_test)"
   ]
  },
  {
   "cell_type": "markdown",
   "id": "b7424754",
   "metadata": {},
   "source": [
    "### NB models"
   ]
  },
  {
   "cell_type": "code",
   "execution_count": 16,
   "id": "f51564ae",
   "metadata": {},
   "outputs": [
    {
     "name": "stdout",
     "output_type": "stream",
     "text": [
      "Complement Naive Bayes\n",
      "Bernoulli Naive Bayes\n",
      "Multinomial Naive Bayes\n"
     ]
    },
    {
     "data": {
      "text/plain": [
       "<sklearn.metrics._plot.confusion_matrix.ConfusionMatrixDisplay at 0x1bb39fd0>"
      ]
     },
     "execution_count": 16,
     "metadata": {},
     "output_type": "execute_result"
    },
    {
     "data": {
      "image/png": "[encoded data removed]",
      "text/plain": [
       "<Figure size 432x288 with 2 Axes>"
      ]
     },
     "metadata": {
      "needs_background": "light"
     },
     "output_type": "display_data"
    },
    {
     "data": {
      "image/png": "[encoded data removed]",
      "text/plain": [
       "<Figure size 432x288 with 2 Axes>"
      ]
     },
     "metadata": {
      "needs_background": "light"
     },
     "output_type": "display_data"
    },
    {
     "data": {
      "image/png": "[encoded data removed]",
      "text/plain": [
       "<Figure size 432x288 with 2 Axes>"
      ]
     },
     "metadata": {
      "needs_background": "light"
     },
     "output_type": "display_data"
    }
   ],
   "source": [
    "from sklearn.naive_bayes import ComplementNB, BernoulliNB, MultinomialNB\n",
    "\n",
    "cnb_pipe = make_pipeline(\n",
    "    TfidfVectorizer(),\n",
    "    MaxAbsScaler(),\n",
    "    ComplementNB()\n",
    ")\n",
    "\n",
    "bnb_pipe = make_pipeline(\n",
    "    TfidfVectorizer(),\n",
    "    MaxAbsScaler(),\n",
    "    BernoulliNB()\n",
    ")\n",
    "\n",
    "mnb_pipe = make_pipeline(\n",
    "    TfidfVectorizer(),\n",
    "    MaxAbsScaler(),\n",
    "    MultinomialNB()\n",
    ")\n",
    "\n",
    "# fitting the models\n",
    "cnb_pipe.fit(X, y)\n",
    "print('Complement Naive Bayes')\n",
    "plot_confusion_matrix(cnb_pipe, X_test, y_test)\n",
    "\n",
    "bnb_pipe.fit(X, y)\n",
    "print('Bernoulli Naive Bayes')\n",
    "plot_confusion_matrix(bnb_pipe, X_test, y_test)\n",
    "\n",
    "mnb_pipe.fit(X, y)\n",
    "print('Multinomial Naive Bayes')\n",
    "plot_confusion_matrix(mnb_pipe, X_test, y_test)"
   ]
  },
  {
   "cell_type": "markdown",
   "id": "c02c3fb8",
   "metadata": {},
   "source": [
    "### Decision Tree"
   ]
  },
  {
   "cell_type": "code",
   "execution_count": 17,
   "id": "1155d0df",
   "metadata": {},
   "outputs": [
    {
     "data": {
      "text/plain": [
       "<sklearn.metrics._plot.confusion_matrix.ConfusionMatrixDisplay at 0x1beb3df0>"
      ]
     },
     "execution_count": 17,
     "metadata": {},
     "output_type": "execute_result"
    },
    {
     "data": {
      "image/png": "[encoded data removed]",
      "text/plain": [
       "<Figure size 432x288 with 2 Axes>"
      ]
     },
     "metadata": {
      "needs_background": "light"
     },
     "output_type": "display_data"
    }
   ],
   "source": [
    "from sklearn.tree import DecisionTreeClassifier\n",
    "\n",
    "dt_pipe = make_pipeline(\n",
    "    TfidfVectorizer(),\n",
    "    MaxAbsScaler(),\n",
    "    DecisionTreeClassifier()\n",
    ")\n",
    "\n",
    "dt_pipe.fit(X, y)\n",
    "plot_confusion_matrix(dt_pipe, X_test, y_test)"
   ]
  },
  {
   "cell_type": "markdown",
   "id": "1da507b7",
   "metadata": {},
   "source": [
    "### K-nearest neighbors"
   ]
  },
  {
   "cell_type": "code",
   "execution_count": 18,
   "id": "960b6fd4",
   "metadata": {},
   "outputs": [
    {
     "data": {
      "text/plain": [
       "<sklearn.metrics._plot.confusion_matrix.ConfusionMatrixDisplay at 0x1bcaaa78>"
      ]
     },
     "execution_count": 18,
     "metadata": {},
     "output_type": "execute_result"
    },
    {
     "data": {
      "image/png": "[encoded data removed]",
      "text/plain": [
       "<Figure size 432x288 with 2 Axes>"
      ]
     },
     "metadata": {
      "needs_background": "light"
     },
     "output_type": "display_data"
    }
   ],
   "source": [
    "from sklearn.neighbors import KNeighborsClassifier\n",
    "\n",
    "kn_pipe = make_pipeline(\n",
    "    TfidfVectorizer(),\n",
    "    MaxAbsScaler(),\n",
    "    KNeighborsClassifier()\n",
    ")\n",
    "\n",
    "kn_pipe.fit(X, y)\n",
    "plot_confusion_matrix(kn_pipe, X_test, y_test)"
   ]
  },
  {
   "cell_type": "markdown",
   "id": "fa882ae8",
   "metadata": {},
   "source": [
    "### Perceptron"
   ]
  },
  {
   "cell_type": "code",
   "execution_count": 19,
   "id": "3d845371",
   "metadata": {},
   "outputs": [
    {
     "data": {
      "text/plain": [
       "<sklearn.metrics._plot.confusion_matrix.ConfusionMatrixDisplay at 0x1c0a4b50>"
      ]
     },
     "execution_count": 19,
     "metadata": {},
     "output_type": "execute_result"
    },
    {
     "data": {
      "image/png": "[encoded data removed]",
      "text/plain": [
       "<Figure size 432x288 with 2 Axes>"
      ]
     },
     "metadata": {
      "needs_background": "light"
     },
     "output_type": "display_data"
    }
   ],
   "source": [
    "from sklearn.linear_model import Perceptron\n",
    "\n",
    "p_pipe = make_pipeline(\n",
    "    TfidfVectorizer(),\n",
    "    MaxAbsScaler(),\n",
    "    Perceptron()\n",
    ")\n",
    "\n",
    "p_pipe.fit(X, y)\n",
    "plot_confusion_matrix(p_pipe, X_test, y_test)"
   ]
  },
  {
   "cell_type": "markdown",
   "id": "4dfce314",
   "metadata": {},
   "source": [
    "### Support Vector Machine"
   ]
  },
  {
   "cell_type": "code",
   "execution_count": 20,
   "id": "bd70bc94",
   "metadata": {},
   "outputs": [
    {
     "data": {
      "text/plain": [
       "<sklearn.metrics._plot.confusion_matrix.ConfusionMatrixDisplay at 0x1d118070>"
      ]
     },
     "execution_count": 20,
     "metadata": {},
     "output_type": "execute_result"
    },
    {
     "data": {
      "image/png": "[encoded data removed]",
      "text/plain": [
       "<Figure size 432x288 with 2 Axes>"
      ]
     },
     "metadata": {
      "needs_background": "light"
     },
     "output_type": "display_data"
    }
   ],
   "source": [
    "from sklearn.svm import SVC\n",
    "\n",
    "svm_pipe = make_pipeline(\n",
    "    TfidfVectorizer(),\n",
    "    MaxAbsScaler(),\n",
    "    SVC()\n",
    ")\n",
    "\n",
    "svm_pipe.fit(X, y)\n",
    "plot_confusion_matrix(svm_pipe, X_test, y_test)"
   ]
  },
  {
   "cell_type": "markdown",
   "id": "82e49164",
   "metadata": {},
   "source": [
    "## Comparing accuracy scores"
   ]
  },
  {
   "cell_type": "code",
   "execution_count": 21,
   "id": "f9ca0072",
   "metadata": {},
   "outputs": [
    {
     "data": {
      "text/html": [
       "<div>\n",
       "<style scoped>\n",
       "    .dataframe tbody tr th:only-of-type {\n",
       "        vertical-align: middle;\n",
       "    }\n",
       "\n",
       "    .dataframe tbody tr th {\n",
       "        vertical-align: top;\n",
       "    }\n",
       "\n",
       "    .dataframe thead th {\n",
       "        text-align: right;\n",
       "    }\n",
       "</style>\n",
       "<table border=\"1\" class=\"dataframe\">\n",
       "  <thead>\n",
       "    <tr style=\"text-align: right;\">\n",
       "      <th></th>\n",
       "      <th>Logistic Regression</th>\n",
       "      <th>Complement NB</th>\n",
       "      <th>Bernoulli NB</th>\n",
       "      <th>Multinomail Regression</th>\n",
       "      <th>K-nearest neighbors</th>\n",
       "      <th>Perceptron</th>\n",
       "      <th>SVM</th>\n",
       "    </tr>\n",
       "  </thead>\n",
       "  <tbody>\n",
       "    <tr>\n",
       "      <th>0</th>\n",
       "      <td>0.920898</td>\n",
       "      <td>0.894531</td>\n",
       "      <td>0.908203</td>\n",
       "      <td>0.910156</td>\n",
       "      <td>0.911133</td>\n",
       "      <td>0.880859</td>\n",
       "      <td>0.912109</td>\n",
       "    </tr>\n",
       "  </tbody>\n",
       "</table>\n",
       "</div>"
      ],
      "text/plain": [
       "   Logistic Regression  Complement NB  Bernoulli NB  Multinomail Regression  \\\n",
       "0             0.920898       0.894531      0.908203                0.910156   \n",
       "\n",
       "   K-nearest neighbors  Perceptron       SVM  \n",
       "0             0.911133    0.880859  0.912109  "
      ]
     },
     "execution_count": 21,
     "metadata": {},
     "output_type": "execute_result"
    }
   ],
   "source": [
    "scores = {\n",
    "    'Logistic Regression': [accuracy_score(y_test, lr_pipe.predict(X_test))],\n",
    "    'Complement NB': [accuracy_score(y_test, cnb_pipe.predict(X_test))],\n",
    "    'Bernoulli NB': [accuracy_score(y_test, bnb_pipe.predict(X_test))],\n",
    "    'Multinomail Regression': [accuracy_score(y_test, mnb_pipe.predict(X_test))],\n",
    "    'K-nearest neighbors': [accuracy_score(y_test, kn_pipe.predict(X_test))],\n",
    "    'Perceptron': [accuracy_score(y_test, p_pipe.predict(X_test))],\n",
    "    'SVM': [accuracy_score(y_test, svm_pipe.predict(X_test))]\n",
    "}\n",
    "\n",
    "scores_df = pd.DataFrame.from_dict(scores)\n",
    "scores_df"
   ]
  },
  {
   "cell_type": "code",
   "execution_count": 22,
   "id": "2bee23d6",
   "metadata": {},
   "outputs": [
    {
     "data": {
      "text/plain": [
       "'Logistic Regression : 0.9208984375'"
      ]
     },
     "execution_count": 22,
     "metadata": {},
     "output_type": "execute_result"
    }
   ],
   "source": [
    "# the best accuracy\n",
    "model_name = scores_df.idxmax(axis=1)[0]\n",
    "f'{model_name} : {scores_df[model_name][0]}'"
   ]
  },
  {
   "cell_type": "code",
   "execution_count": 25,
   "id": "2e1d22c7",
   "metadata": {},
   "outputs": [
    {
     "name": "stdout",
     "output_type": "stream",
     "text": [
      "              precision    recall  f1-score   support\n",
      "\n",
      "           0       0.92      1.00      0.96       932\n",
      "           1       0.79      0.16      0.27        92\n",
      "\n",
      "    accuracy                           0.92      1024\n",
      "   macro avg       0.86      0.58      0.61      1024\n",
      "weighted avg       0.91      0.92      0.90      1024\n",
      "\n"
     ]
    }
   ],
   "source": [
    "from sklearn.metrics import classification_report\n",
    "\n",
    "print(classification_report(y_test, lr_pipe.predict(X_test))) "
   ]
  },
  {
   "cell_type": "code",
   "execution_count": 32,
   "id": "fbcb218b",
   "metadata": {},
   "outputs": [
    {
     "name": "stdout",
     "output_type": "stream",
     "text": [
      "Mean Absolute Error: 0.0791015625\n",
      "Mean Squared Error: 0.0791015625\n",
      "Root Mean Squared Error: 0.28125\n"
     ]
    }
   ],
   "source": [
    "from sklearn import metrics\n",
    "import numpy as np\n",
    "\n",
    "print('Mean Absolute Error:', metrics.mean_absolute_error(y_test, lr_pipe.predict(X_test)))\n",
    "print('Mean Squared Error:', metrics.mean_squared_error(y_test, lr_pipe.predict(X_test)))\n",
    "print('Root Mean Squared Error:', np.sqrt(metrics.mean_squared_error(y_test, lr_pipe.predict(X_test))))"
   ]
  }
 ],
 "metadata": {
  "kernelspec": {
   "display_name": "Python 3.8.7 32-bit",
   "language": "python",
   "name": "python38732bit4cf8281a1ba34a49bdcb0c9668d62e6c"
  },
  "language_info": {
   "codemirror_mode": {
    "name": "ipython",
    "version": 3
   },
   "file_extension": ".py",
   "mimetype": "text/x-python",
   "name": "python",
   "nbconvert_exporter": "python",
   "pygments_lexer": "ipython3",
   "version": "3.8.7"
  }
 },
 "nbformat": 4,
 "nbformat_minor": 5
}
