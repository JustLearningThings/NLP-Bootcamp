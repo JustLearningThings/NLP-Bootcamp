{
 "cells": [
  {
   "cell_type": "markdown",
   "id": "ff8cc68e",
   "metadata": {},
   "source": [
    "# Python Homerwork 2"
   ]
  },
  {
   "cell_type": "markdown",
   "id": "ccda6a9f",
   "metadata": {},
   "source": [
    "## Task:  Polymorphism, Encapsulation and Inheritance"
   ]
  },
  {
   "cell_type": "markdown",
   "id": "f8c19070",
   "metadata": {},
   "source": [
    "Creeaza un exemplul al tău al acestor concepte. Crează o clasă de bază, două clase copii care să moștenească clasa de bază. Adaugă câțiva parametri pentru fiecare din clase, adaugă funcții comune în clasa de bază, și câteva funcții specifice pentru fiecare din clasa copil.\n",
    "\n",
    "Acum creează exemple și testează totul ce noi am învățat pe parcursul workshop-ului."
   ]
  },
  {
   "cell_type": "code",
   "execution_count": 2,
   "id": "af09438a",
   "metadata": {},
   "outputs": [],
   "source": [
    "# definim clasa de baza\n",
    "class MagicCreature:\n",
    "    def __init__(self, name):\n",
    "        self.name = name\n",
    "    \n",
    "    def doMyThing(self):\n",
    "        print(f'Boo ! I\\'m {self.name}')"
   ]
  },
  {
   "cell_type": "code",
   "execution_count": 3,
   "id": "b88b1232",
   "metadata": {},
   "outputs": [],
   "source": [
    "# prima creatura magica...adica prima clasa-copil\n",
    "class BogeyMan(MagicCreature):\n",
    "    def __init__(self, name):\n",
    "        super().__init__(name)\n",
    "        self.__interests = 'to scare children'\n",
    "    \n",
    "#     functie mostenita de la clasa-parinte, insa modificata\n",
    "    def doMyThing(self):\n",
    "        print('Boo !')\n",
    "        self.__whoAmI() # apelam functia privata     \n",
    "        print(f'I like {self.__interests}')\n",
    "    \n",
    "#     functie proprie clasei date\n",
    "    def scareChildren(self):\n",
    "        print('*scares children*')\n",
    "    \n",
    "#     functie privata\n",
    "    def __whoAmI(self):\n",
    "        print(f'I\\'m {self.name}, a BogeyMan.')"
   ]
  },
  {
   "cell_type": "code",
   "execution_count": 4,
   "id": "7f469844",
   "metadata": {},
   "outputs": [
    {
     "name": "stdout",
     "output_type": "stream",
     "text": [
      "Boo !\n",
      "I'm Pennywise, a BogeyMan.\n",
      "I like to scare children\n",
      "*scares children*\n"
     ]
    }
   ],
   "source": [
    "Pennywise = BogeyMan('Pennywise') # cream o instanta a clasei BogeyMan\n",
    "Pennywise.doMyThing() # apelam functia publica mostenita\n",
    "Pennywise.scareChildren() # apelam functia proprie"
   ]
  },
  {
   "cell_type": "code",
   "execution_count": 5,
   "id": "21a36e6d",
   "metadata": {},
   "outputs": [],
   "source": [
    "class Leprechaun(MagicCreature):\n",
    "#     variabila privata\n",
    "    __secret_coordinates = '41.8746° S, 172.8616° E'\n",
    "    \n",
    "    def __init__(self, name):\n",
    "        super().__init__(name)\n",
    "    \n",
    "#     functie mostenita si modificata\n",
    "    def doMyThing(self):\n",
    "        print('*grants you 3 wishes*')\n",
    "        \n",
    "        for i in range(3):\n",
    "            wish = input(f'Wish {i + 1} ? ')\n",
    "            print('No.')\n",
    "    \n",
    "#     functie proprie clasei\n",
    "    def giveRainbowLocation(self):\n",
    "        print(f'Psst... It\\'s {self.__secret_coordinates}')"
   ]
  },
  {
   "cell_type": "code",
   "execution_count": 6,
   "id": "e3adc28a",
   "metadata": {},
   "outputs": [
    {
     "name": "stdout",
     "output_type": "stream",
     "text": [
      "Patrick\n",
      "*grants you 3 wishes*\n",
      "Wish 1 ? Give me your money\n",
      "No.\n",
      "Wish 2 ? Make me invincible\n",
      "No.\n",
      "Wish 3 ? Cure world illnesses\n",
      "No.\n",
      "Psst... It's 41.8746° S, 172.8616° E\n"
     ]
    }
   ],
   "source": [
    "leprechaun = Leprechaun('Patrick')\n",
    "print(leprechaun.name)\n",
    "leprechaun.doMyThing()\n",
    "leprechaun.giveRainbowLocation()"
   ]
  }
 ],
 "metadata": {
  "kernelspec": {
   "display_name": "Python 3.8.7 32-bit",
   "language": "python",
   "name": "python38732bit4cf8281a1ba34a49bdcb0c9668d62e6c"
  },
  "language_info": {
   "codemirror_mode": {
    "name": "ipython",
    "version": 3
   },
   "file_extension": ".py",
   "mimetype": "text/x-python",
   "name": "python",
   "nbconvert_exporter": "python",
   "pygments_lexer": "ipython3",
   "version": "3.8.7"
  }
 },
 "nbformat": 4,
 "nbformat_minor": 5
}
